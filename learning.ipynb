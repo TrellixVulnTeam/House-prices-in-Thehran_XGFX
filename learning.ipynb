{
 "metadata": {
  "language_info": {
   "codemirror_mode": {
    "name": "ipython",
    "version": 3
   },
   "file_extension": ".py",
   "mimetype": "text/x-python",
   "name": "python",
   "nbconvert_exporter": "python",
   "pygments_lexer": "ipython3",
   "version": "3.8.5-final"
  },
  "orig_nbformat": 2,
  "kernelspec": {
   "name": "python385jvsc74a57bd0efd2028def632073035c3451186c6709a56f34d16c3890bb6c015ca124d963e8",
   "display_name": "Python 3.8.5 64-bit ('env')"
  },
  "metadata": {
   "interpreter": {
    "hash": "efd2028def632073035c3451186c6709a56f34d16c3890bb6c015ca124d963e8"
   }
  }
 },
 "nbformat": 4,
 "nbformat_minor": 2,
 "cells": [
  {
   "cell_type": "code",
   "execution_count": 1,
   "metadata": {},
   "outputs": [
    {
     "output_type": "execute_result",
     "data": {
      "text/plain": [
       "              Zone  Price Years  Rooms  Area NumberOfElevators floor direction\n",
       "0       کامرانیه     8400     3      2   120                 1     5     شمالی\n",
       "1        میرداماد    5928     0      2    80                 1     3       NaN\n",
       "2        پاسداران    4450     0      1    68                 1     1       NaN\n",
       "3        شمس آباد       6     0      2   120                 1     2       NaN\n",
       "4       تهرانپارس     NaN     0      2   104                 1     2       NaN\n",
       "...            ...    ...   ...    ...   ...               ...   ...       ...\n",
       "4501     زعفرانیه   16200     1      3   180                 0   NaN       NaN\n",
       "4502        ولنجک   18414     4      3   198                 0   NaN       NaN\n",
       "4503        ولنجک   21850     2      3   230                 0   NaN       NaN\n",
       "4504        ولنجک      37     0      4   320                 0   NaN       NaN\n",
       "4505      محمودیه   18500     5      3   200                 0   NaN       NaN\n",
       "\n",
       "[4506 rows x 8 columns]"
      ],
      "text/html": "<div>\n<style scoped>\n    .dataframe tbody tr th:only-of-type {\n        vertical-align: middle;\n    }\n\n    .dataframe tbody tr th {\n        vertical-align: top;\n    }\n\n    .dataframe thead th {\n        text-align: right;\n    }\n</style>\n<table border=\"1\" class=\"dataframe\">\n  <thead>\n    <tr style=\"text-align: right;\">\n      <th></th>\n      <th>Zone</th>\n      <th>Price</th>\n      <th>Years</th>\n      <th>Rooms</th>\n      <th>Area</th>\n      <th>NumberOfElevators</th>\n      <th>floor</th>\n      <th>direction</th>\n    </tr>\n  </thead>\n  <tbody>\n    <tr>\n      <th>0</th>\n      <td>کامرانیه</td>\n      <td>8400</td>\n      <td>3</td>\n      <td>2</td>\n      <td>120</td>\n      <td>1</td>\n      <td>5</td>\n      <td>شمالی</td>\n    </tr>\n    <tr>\n      <th>1</th>\n      <td>میرداماد</td>\n      <td>5928</td>\n      <td>0</td>\n      <td>2</td>\n      <td>80</td>\n      <td>1</td>\n      <td>3</td>\n      <td>NaN</td>\n    </tr>\n    <tr>\n      <th>2</th>\n      <td>پاسداران</td>\n      <td>4450</td>\n      <td>0</td>\n      <td>1</td>\n      <td>68</td>\n      <td>1</td>\n      <td>1</td>\n      <td>NaN</td>\n    </tr>\n    <tr>\n      <th>3</th>\n      <td>شمس آباد</td>\n      <td>6</td>\n      <td>0</td>\n      <td>2</td>\n      <td>120</td>\n      <td>1</td>\n      <td>2</td>\n      <td>NaN</td>\n    </tr>\n    <tr>\n      <th>4</th>\n      <td>تهرانپارس</td>\n      <td>NaN</td>\n      <td>0</td>\n      <td>2</td>\n      <td>104</td>\n      <td>1</td>\n      <td>2</td>\n      <td>NaN</td>\n    </tr>\n    <tr>\n      <th>...</th>\n      <td>...</td>\n      <td>...</td>\n      <td>...</td>\n      <td>...</td>\n      <td>...</td>\n      <td>...</td>\n      <td>...</td>\n      <td>...</td>\n    </tr>\n    <tr>\n      <th>4501</th>\n      <td>زعفرانیه</td>\n      <td>16200</td>\n      <td>1</td>\n      <td>3</td>\n      <td>180</td>\n      <td>0</td>\n      <td>NaN</td>\n      <td>NaN</td>\n    </tr>\n    <tr>\n      <th>4502</th>\n      <td>ولنجک</td>\n      <td>18414</td>\n      <td>4</td>\n      <td>3</td>\n      <td>198</td>\n      <td>0</td>\n      <td>NaN</td>\n      <td>NaN</td>\n    </tr>\n    <tr>\n      <th>4503</th>\n      <td>ولنجک</td>\n      <td>21850</td>\n      <td>2</td>\n      <td>3</td>\n      <td>230</td>\n      <td>0</td>\n      <td>NaN</td>\n      <td>NaN</td>\n    </tr>\n    <tr>\n      <th>4504</th>\n      <td>ولنجک</td>\n      <td>37</td>\n      <td>0</td>\n      <td>4</td>\n      <td>320</td>\n      <td>0</td>\n      <td>NaN</td>\n      <td>NaN</td>\n    </tr>\n    <tr>\n      <th>4505</th>\n      <td>محمودیه</td>\n      <td>18500</td>\n      <td>5</td>\n      <td>3</td>\n      <td>200</td>\n      <td>0</td>\n      <td>NaN</td>\n      <td>NaN</td>\n    </tr>\n  </tbody>\n</table>\n<p>4506 rows × 8 columns</p>\n</div>"
     },
     "metadata": {},
     "execution_count": 1
    }
   ],
   "source": [
    "import pandas as pd\n",
    "import numpy as np\n",
    "\n",
    "# read csv file\n",
    "data = pd.read_csv(\"/home/parham//Desktop/project/Housing/Housing/posts.csv\")\n",
    "# create dataframe\n",
    "df = pd.DataFrame(data=data)\n",
    "df\n"
   ]
  },
  {
   "cell_type": "code",
   "execution_count": 2,
   "metadata": {
    "tags": []
   },
   "outputs": [
    {
     "output_type": "stream",
     "name": "stderr",
     "text": [
      "<ipython-input-2-2ae1b4534b42>:9: SettingWithCopyWarning: \nA value is trying to be set on a copy of a slice from a DataFrame.\nTry using .loc[row_indexer,col_indexer] = value instead\n\nSee the caveats in the documentation: https://pandas.pydata.org/pandas-docs/stable/user_guide/indexing.html#returning-a-view-versus-a-copy\n  df[\"Price\"] = df[\"Price\"].str.replace(\",\",\"\")\n<ipython-input-2-2ae1b4534b42>:10: SettingWithCopyWarning: \nA value is trying to be set on a copy of a slice from a DataFrame.\nTry using .loc[row_indexer,col_indexer] = value instead\n\nSee the caveats in the documentation: https://pandas.pydata.org/pandas-docs/stable/user_guide/indexing.html#returning-a-view-versus-a-copy\n  df[\"Price\"] = df[\"Price\"].astype(float)\n<ipython-input-2-2ae1b4534b42>:16: SettingWithCopyWarning: \nA value is trying to be set on a copy of a slice from a DataFrame\n\nSee the caveats in the documentation: https://pandas.pydata.org/pandas-docs/stable/user_guide/indexing.html#returning-a-view-versus-a-copy\n  price[i] = price[i]/1000\n/home/parham/Desktop/project/Housing/env/lib/python3.8/site-packages/IPython/core/interactiveshell.py:3437: SettingWithCopyWarning: \nA value is trying to be set on a copy of a slice from a DataFrame\n\nSee the caveats in the documentation: https://pandas.pydata.org/pandas-docs/stable/user_guide/indexing.html#returning-a-view-versus-a-copy\n  exec(code_obj, self.user_global_ns, self.user_ns)\n"
     ]
    },
    {
     "output_type": "execute_result",
     "data": {
      "text/plain": [
       "             Zone   Price Years  Rooms  Area NumberOfElevators floor direction\n",
       "0      کامرانیه     8.400     3      2   120                 1     5     شمالی\n",
       "1       میرداماد    5.928     0      2    80                 1     3       NaN\n",
       "2       پاسداران    4.450     0      1    68                 1     1       NaN\n",
       "3       شمس آباد    6.000     0      2   120                 1     2       NaN\n",
       "4            ظفر    7.700     8      3   131                 1     1       NaN\n",
       "...           ...     ...   ...    ...   ...               ...   ...       ...\n",
       "4465    زعفرانیه   16.200     1      3   180                 0   NaN       NaN\n",
       "4466       ولنجک   18.414     4      3   198                 0   NaN       NaN\n",
       "4467       ولنجک   21.850     2      3   230                 0   NaN       NaN\n",
       "4468       ولنجک   37.000     0      4   320                 0   NaN       NaN\n",
       "4469     محمودیه   18.500     5      3   200                 0   NaN       NaN\n",
       "\n",
       "[4470 rows x 8 columns]"
      ],
      "text/html": "<div>\n<style scoped>\n    .dataframe tbody tr th:only-of-type {\n        vertical-align: middle;\n    }\n\n    .dataframe tbody tr th {\n        vertical-align: top;\n    }\n\n    .dataframe thead th {\n        text-align: right;\n    }\n</style>\n<table border=\"1\" class=\"dataframe\">\n  <thead>\n    <tr style=\"text-align: right;\">\n      <th></th>\n      <th>Zone</th>\n      <th>Price</th>\n      <th>Years</th>\n      <th>Rooms</th>\n      <th>Area</th>\n      <th>NumberOfElevators</th>\n      <th>floor</th>\n      <th>direction</th>\n    </tr>\n  </thead>\n  <tbody>\n    <tr>\n      <th>0</th>\n      <td>کامرانیه</td>\n      <td>8.400</td>\n      <td>3</td>\n      <td>2</td>\n      <td>120</td>\n      <td>1</td>\n      <td>5</td>\n      <td>شمالی</td>\n    </tr>\n    <tr>\n      <th>1</th>\n      <td>میرداماد</td>\n      <td>5.928</td>\n      <td>0</td>\n      <td>2</td>\n      <td>80</td>\n      <td>1</td>\n      <td>3</td>\n      <td>NaN</td>\n    </tr>\n    <tr>\n      <th>2</th>\n      <td>پاسداران</td>\n      <td>4.450</td>\n      <td>0</td>\n      <td>1</td>\n      <td>68</td>\n      <td>1</td>\n      <td>1</td>\n      <td>NaN</td>\n    </tr>\n    <tr>\n      <th>3</th>\n      <td>شمس آباد</td>\n      <td>6.000</td>\n      <td>0</td>\n      <td>2</td>\n      <td>120</td>\n      <td>1</td>\n      <td>2</td>\n      <td>NaN</td>\n    </tr>\n    <tr>\n      <th>4</th>\n      <td>ظفر</td>\n      <td>7.700</td>\n      <td>8</td>\n      <td>3</td>\n      <td>131</td>\n      <td>1</td>\n      <td>1</td>\n      <td>NaN</td>\n    </tr>\n    <tr>\n      <th>...</th>\n      <td>...</td>\n      <td>...</td>\n      <td>...</td>\n      <td>...</td>\n      <td>...</td>\n      <td>...</td>\n      <td>...</td>\n      <td>...</td>\n    </tr>\n    <tr>\n      <th>4465</th>\n      <td>زعفرانیه</td>\n      <td>16.200</td>\n      <td>1</td>\n      <td>3</td>\n      <td>180</td>\n      <td>0</td>\n      <td>NaN</td>\n      <td>NaN</td>\n    </tr>\n    <tr>\n      <th>4466</th>\n      <td>ولنجک</td>\n      <td>18.414</td>\n      <td>4</td>\n      <td>3</td>\n      <td>198</td>\n      <td>0</td>\n      <td>NaN</td>\n      <td>NaN</td>\n    </tr>\n    <tr>\n      <th>4467</th>\n      <td>ولنجک</td>\n      <td>21.850</td>\n      <td>2</td>\n      <td>3</td>\n      <td>230</td>\n      <td>0</td>\n      <td>NaN</td>\n      <td>NaN</td>\n    </tr>\n    <tr>\n      <th>4468</th>\n      <td>ولنجک</td>\n      <td>37.000</td>\n      <td>0</td>\n      <td>4</td>\n      <td>320</td>\n      <td>0</td>\n      <td>NaN</td>\n      <td>NaN</td>\n    </tr>\n    <tr>\n      <th>4469</th>\n      <td>محمودیه</td>\n      <td>18.500</td>\n      <td>5</td>\n      <td>3</td>\n      <td>200</td>\n      <td>0</td>\n      <td>NaN</td>\n      <td>NaN</td>\n    </tr>\n  </tbody>\n</table>\n<p>4470 rows × 8 columns</p>\n</div>"
     },
     "metadata": {},
     "execution_count": 2
    }
   ],
   "source": [
    "### Lets clean the data\n",
    "df=df.dropna(subset = ['Price']) # drop the rows that the target value has not any value.\n",
    "df.index = range(0,df.shape[0]) # re index the dataframe\n",
    "#################################################################\n",
    "#################################################################\n",
    "### convert numeric string to int or float:\n",
    "\n",
    "#    ### convert Price column to float value\n",
    "df[\"Price\"] = df[\"Price\"].str.replace(\",\",\"\")\n",
    "df[\"Price\"] = df[\"Price\"].astype(float)\n",
    "\n",
    "price= df[\"Price\"]\n",
    "#Some of data prices are like 8400.0 but some of them are like 6.0 or 37.0 How ever both of them shold be represent in scale of billion Toman so I re-scale all of data As bellow.\n",
    "for i in range(0,len(price)):\n",
    "    if price[i] > 100.0:\n",
    "        price[i] = price[i]/1000\n",
    "\n",
    "df"
   ]
  },
  {
   "cell_type": "code",
   "execution_count": 3,
   "metadata": {
    "tags": []
   },
   "outputs": [
    {
     "output_type": "stream",
     "name": "stderr",
     "text": [
      "<ipython-input-3-f0a267d1ae7d>:13: SettingWithCopyWarning: \n",
      "A value is trying to be set on a copy of a slice from a DataFrame\n",
      "\n",
      "See the caveats in the documentation: https://pandas.pydata.org/pandas-docs/stable/user_guide/indexing.html#returning-a-view-versus-a-copy\n",
      "  df['Years'][i]= int(df['Years'][i])\n",
      "/home/parham/Desktop/project/Housing/env/lib/python3.8/site-packages/IPython/core/interactiveshell.py:3437: SettingWithCopyWarning: \n",
      "A value is trying to be set on a copy of a slice from a DataFrame\n",
      "\n",
      "See the caveats in the documentation: https://pandas.pydata.org/pandas-docs/stable/user_guide/indexing.html#returning-a-view-versus-a-copy\n",
      "  exec(code_obj, self.user_global_ns, self.user_ns)\n",
      "<ipython-input-3-f0a267d1ae7d>:9: SettingWithCopyWarning: \n",
      "A value is trying to be set on a copy of a slice from a DataFrame\n",
      "\n",
      "See the caveats in the documentation: https://pandas.pydata.org/pandas-docs/stable/user_guide/indexing.html#returning-a-view-versus-a-copy\n",
      "  df['Years'][i] = None\n",
      "<ipython-input-3-f0a267d1ae7d>:16: SettingWithCopyWarning: \n",
      "A value is trying to be set on a copy of a slice from a DataFrame\n",
      "\n",
      "See the caveats in the documentation: https://pandas.pydata.org/pandas-docs/stable/user_guide/indexing.html#returning-a-view-versus-a-copy\n",
      "  df['Years'][i]= None\n",
      "759     None\n",
      "1068     None\n",
      "1107     None\n",
      "1118     None\n",
      "1853     None\n",
      "2019     None\n",
      "3026     None\n",
      "3108     None\n",
      "3902     None\n",
      "4126     None\n",
      "<ipython-input-3-f0a267d1ae7d>:20: SettingWithCopyWarning: \n",
      "A value is trying to be set on a copy of a slice from a DataFrame\n",
      "\n",
      "See the caveats in the documentation: https://pandas.pydata.org/pandas-docs/stable/user_guide/indexing.html#returning-a-view-versus-a-copy\n",
      "  df['Years'][i]= np.nan\n"
     ]
    }
   ],
   "source": [
    "# finding how many data are null\n",
    "isnull = df['Years'].isnull()\n",
    "isnull = list(isnull) \n",
    "\n",
    "# converting those records in \"Years\" column which are string,NoneType and integer to float type\n",
    "for i in range(0,len(df['Years'])):\n",
    "    if df['Years'][i] == '—':\n",
    "        \n",
    "        df['Years'][i] = None\n",
    "    if type(df['Years'][i])==float or type(df['Years'][i])==int or type(df['Years'][i])==str: \n",
    "        if isnull[i] == False and (df['Years'][i] is not None or df['Years'][i]!= np.nan): \n",
    "            \n",
    "            df['Years'][i]= int(df['Years'][i])\n",
    "    else:\n",
    "        \n",
    "        df['Years'][i]= None\n",
    "for i in range(0,len(df['Years'])):\n",
    "    if df['Years'][i]== None:\n",
    "        print(i,\"   \" ,df['Years'][i])\n",
    "        df['Years'][i]= np.nan"
   ]
  },
  {
   "cell_type": "code",
   "execution_count": 4,
   "metadata": {},
   "outputs": [
    {
     "output_type": "stream",
     "name": "stderr",
     "text": [
      "<ipython-input-4-232976a58402>:2: SettingWithCopyWarning: \nA value is trying to be set on a copy of a slice from a DataFrame.\nTry using .loc[row_indexer,col_indexer] = value instead\n\nSee the caveats in the documentation: https://pandas.pydata.org/pandas-docs/stable/user_guide/indexing.html#returning-a-view-versus-a-copy\n  df[\"Rooms\"] = df[\"Rooms\"].astype(int)\n<ipython-input-4-232976a58402>:3: SettingWithCopyWarning: \nA value is trying to be set on a copy of a slice from a DataFrame.\nTry using .loc[row_indexer,col_indexer] = value instead\n\nSee the caveats in the documentation: https://pandas.pydata.org/pandas-docs/stable/user_guide/indexing.html#returning-a-view-versus-a-copy\n  df[\"Area\"] = df[\"Area\"].astype(int)\n"
     ]
    }
   ],
   "source": [
    "#converting string records for Rooms and Area column to integer\n",
    "df[\"Rooms\"] = df[\"Rooms\"].astype(int)\t\n",
    "df[\"Area\"] = df[\"Area\"].astype(int)\t"
   ]
  },
  {
   "cell_type": "code",
   "execution_count": 5,
   "metadata": {},
   "outputs": [
    {
     "output_type": "stream",
     "name": "stderr",
     "text": [
      "<ipython-input-5-e86f992ebaad>:11: SettingWithCopyWarning: \n",
      "A value is trying to be set on a copy of a slice from a DataFrame\n",
      "\n",
      "See the caveats in the documentation: https://pandas.pydata.org/pandas-docs/stable/user_guide/indexing.html#returning-a-view-versus-a-copy\n",
      "  df['NumberOfElevators'][i]= int(df['NumberOfElevators'][i])\n",
      "<ipython-input-5-e86f992ebaad>:4: SettingWithCopyWarning: \n",
      "A value is trying to be set on a copy of a slice from a DataFrame\n",
      "\n",
      "See the caveats in the documentation: https://pandas.pydata.org/pandas-docs/stable/user_guide/indexing.html#returning-a-view-versus-a-copy\n",
      "  df['NumberOfElevators'][i] = None\n",
      "<ipython-input-5-e86f992ebaad>:16: SettingWithCopyWarning: \n",
      "A value is trying to be set on a copy of a slice from a DataFrame\n",
      "\n",
      "See the caveats in the documentation: https://pandas.pydata.org/pandas-docs/stable/user_guide/indexing.html#returning-a-view-versus-a-copy\n",
      "  df['NumberOfElevators'][i] = 0\n",
      "<ipython-input-5-e86f992ebaad>:6: SettingWithCopyWarning: \n",
      "A value is trying to be set on a copy of a slice from a DataFrame\n",
      "\n",
      "See the caveats in the documentation: https://pandas.pydata.org/pandas-docs/stable/user_guide/indexing.html#returning-a-view-versus-a-copy\n",
      "  df['NumberOfElevators'][i] = 1\n"
     ]
    }
   ],
   "source": [
    "# converting those records in \"NumberOfElevators\" column which are string,NoneType to integer type\n",
    "for i in range(0,len(df['NumberOfElevators'])):\n",
    "    if df['NumberOfElevators'][i] == '-':\n",
    "        df['NumberOfElevators'][i] = None\n",
    "    if df['NumberOfElevators'][i] =='دارد':\n",
    "        df['NumberOfElevators'][i] = 1\n",
    "    \n",
    "\n",
    "    if type(df['NumberOfElevators'][i])== str :\n",
    "        \n",
    "        df['NumberOfElevators'][i]= int(df['NumberOfElevators'][i])\n",
    "    if type(df['NumberOfElevators'][i]) == int:\n",
    "        pass\n",
    "    else:\n",
    "        \n",
    "        df['NumberOfElevators'][i] = 0\n",
    "    "
   ]
  },
  {
   "cell_type": "code",
   "execution_count": 6,
   "metadata": {
    "tags": []
   },
   "outputs": [
    {
     "output_type": "stream",
     "name": "stderr",
     "text": [
      "<ipython-input-6-7c7fb8b8c569>:14: SettingWithCopyWarning: \n",
      "A value is trying to be set on a copy of a slice from a DataFrame\n",
      "\n",
      "See the caveats in the documentation: https://pandas.pydata.org/pandas-docs/stable/user_guide/indexing.html#returning-a-view-versus-a-copy\n",
      "  df['floor'][i]= int(df['floor'][i])\n",
      "<ipython-input-6-7c7fb8b8c569>:8: SettingWithCopyWarning: \n",
      "A value is trying to be set on a copy of a slice from a DataFrame\n",
      "\n",
      "See the caveats in the documentation: https://pandas.pydata.org/pandas-docs/stable/user_guide/indexing.html#returning-a-view-versus-a-copy\n",
      "  df['floor'][i] = None\n",
      "<ipython-input-6-7c7fb8b8c569>:18: SettingWithCopyWarning: \n",
      "A value is trying to be set on a copy of a slice from a DataFrame\n",
      "\n",
      "See the caveats in the documentation: https://pandas.pydata.org/pandas-docs/stable/user_guide/indexing.html#returning-a-view-versus-a-copy\n",
      "  df['floor'][i] = None\n",
      "<ipython-input-6-7c7fb8b8c569>:10: SettingWithCopyWarning: \n",
      "A value is trying to be set on a copy of a slice from a DataFrame\n",
      "\n",
      "See the caveats in the documentation: https://pandas.pydata.org/pandas-docs/stable/user_guide/indexing.html#returning-a-view-versus-a-copy\n",
      "  df['floor'][i] = 1\n",
      "<ipython-input-6-7c7fb8b8c569>:21: SettingWithCopyWarning: \n",
      "A value is trying to be set on a copy of a slice from a DataFrame\n",
      "\n",
      "See the caveats in the documentation: https://pandas.pydata.org/pandas-docs/stable/user_guide/indexing.html#returning-a-view-versus-a-copy\n",
      "  df['floor'][i] = np.nan\n"
     ]
    }
   ],
   "source": [
    "import math\n",
    "import numpy as np\n",
    "# converting those records in \"floor\" column which are string,NoneType to integer type\n",
    "isnull = df['floor'].isnull()\n",
    "isnull = list(isnull)    \n",
    "for i in range(0,len(df['floor'])):\n",
    "    if df['floor'][i] == '-':\n",
    "        df['floor'][i] = None\n",
    "    if df['floor'][i] == 'دارد':\n",
    "        df['floor'][i] = 1\n",
    "        \n",
    "    if type(df['floor'][i])==float or type(df['floor'][i])==int or type(df['floor'][i])==str: \n",
    "        if isnull[i] == False: \n",
    "            df['floor'][i]= int(df['floor'][i])\n",
    "    \n",
    "\n",
    "    else:\n",
    "        df['floor'][i] = None\n",
    "for i in range(0,len(df['floor'])):\n",
    "    if df['floor'][i] == None:\n",
    "        df['floor'][i] = np.nan"
   ]
  },
  {
   "cell_type": "code",
   "execution_count": 7,
   "metadata": {},
   "outputs": [
    {
     "output_type": "execute_result",
     "data": {
      "text/plain": [
       "Zone                    2\n",
       "Price                   0\n",
       "Years                  10\n",
       "Rooms                   0\n",
       "Area                    0\n",
       "NumberOfElevators       0\n",
       "floor                 361\n",
       "direction            3928\n",
       "dtype: int64"
      ]
     },
     "metadata": {},
     "execution_count": 7
    }
   ],
   "source": [
    "### Dealing with missed values\n",
    "df.isnull().sum()"
   ]
  },
  {
   "cell_type": "code",
   "execution_count": 8,
   "metadata": {},
   "outputs": [
    {
     "output_type": "execute_result",
     "data": {
      "text/plain": [
       "             Zone   Price Years  Rooms  Area NumberOfElevators floor\n",
       "0      کامرانیه     8.400     3      2   120                 1     5\n",
       "1       میرداماد    5.928     0      2    80                 1     3\n",
       "2       پاسداران    4.450     0      1    68                 1     1\n",
       "3       شمس آباد    6.000     0      2   120                 1     2\n",
       "4            ظفر    7.700     8      3   131                 1     1\n",
       "...           ...     ...   ...    ...   ...               ...   ...\n",
       "4465    زعفرانیه   16.200     1      3   180                 0   NaN\n",
       "4466       ولنجک   18.414     4      3   198                 0   NaN\n",
       "4467       ولنجک   21.850     2      3   230                 0   NaN\n",
       "4468       ولنجک   37.000     0      4   320                 0   NaN\n",
       "4469     محمودیه   18.500     5      3   200                 0   NaN\n",
       "\n",
       "[4470 rows x 7 columns]"
      ],
      "text/html": "<div>\n<style scoped>\n    .dataframe tbody tr th:only-of-type {\n        vertical-align: middle;\n    }\n\n    .dataframe tbody tr th {\n        vertical-align: top;\n    }\n\n    .dataframe thead th {\n        text-align: right;\n    }\n</style>\n<table border=\"1\" class=\"dataframe\">\n  <thead>\n    <tr style=\"text-align: right;\">\n      <th></th>\n      <th>Zone</th>\n      <th>Price</th>\n      <th>Years</th>\n      <th>Rooms</th>\n      <th>Area</th>\n      <th>NumberOfElevators</th>\n      <th>floor</th>\n    </tr>\n  </thead>\n  <tbody>\n    <tr>\n      <th>0</th>\n      <td>کامرانیه</td>\n      <td>8.400</td>\n      <td>3</td>\n      <td>2</td>\n      <td>120</td>\n      <td>1</td>\n      <td>5</td>\n    </tr>\n    <tr>\n      <th>1</th>\n      <td>میرداماد</td>\n      <td>5.928</td>\n      <td>0</td>\n      <td>2</td>\n      <td>80</td>\n      <td>1</td>\n      <td>3</td>\n    </tr>\n    <tr>\n      <th>2</th>\n      <td>پاسداران</td>\n      <td>4.450</td>\n      <td>0</td>\n      <td>1</td>\n      <td>68</td>\n      <td>1</td>\n      <td>1</td>\n    </tr>\n    <tr>\n      <th>3</th>\n      <td>شمس آباد</td>\n      <td>6.000</td>\n      <td>0</td>\n      <td>2</td>\n      <td>120</td>\n      <td>1</td>\n      <td>2</td>\n    </tr>\n    <tr>\n      <th>4</th>\n      <td>ظفر</td>\n      <td>7.700</td>\n      <td>8</td>\n      <td>3</td>\n      <td>131</td>\n      <td>1</td>\n      <td>1</td>\n    </tr>\n    <tr>\n      <th>...</th>\n      <td>...</td>\n      <td>...</td>\n      <td>...</td>\n      <td>...</td>\n      <td>...</td>\n      <td>...</td>\n      <td>...</td>\n    </tr>\n    <tr>\n      <th>4465</th>\n      <td>زعفرانیه</td>\n      <td>16.200</td>\n      <td>1</td>\n      <td>3</td>\n      <td>180</td>\n      <td>0</td>\n      <td>NaN</td>\n    </tr>\n    <tr>\n      <th>4466</th>\n      <td>ولنجک</td>\n      <td>18.414</td>\n      <td>4</td>\n      <td>3</td>\n      <td>198</td>\n      <td>0</td>\n      <td>NaN</td>\n    </tr>\n    <tr>\n      <th>4467</th>\n      <td>ولنجک</td>\n      <td>21.850</td>\n      <td>2</td>\n      <td>3</td>\n      <td>230</td>\n      <td>0</td>\n      <td>NaN</td>\n    </tr>\n    <tr>\n      <th>4468</th>\n      <td>ولنجک</td>\n      <td>37.000</td>\n      <td>0</td>\n      <td>4</td>\n      <td>320</td>\n      <td>0</td>\n      <td>NaN</td>\n    </tr>\n    <tr>\n      <th>4469</th>\n      <td>محمودیه</td>\n      <td>18.500</td>\n      <td>5</td>\n      <td>3</td>\n      <td>200</td>\n      <td>0</td>\n      <td>NaN</td>\n    </tr>\n  </tbody>\n</table>\n<p>4470 rows × 7 columns</p>\n</div>"
     },
     "metadata": {},
     "execution_count": 8
    }
   ],
   "source": [
    "## As we can see we have 3928 values missed in direction column(more than half of the data) so we drop the column\n",
    "df = df.loc[ : ].drop(['direction'],axis=1)\n",
    "df"
   ]
  },
  {
   "cell_type": "code",
   "execution_count": 9,
   "metadata": {},
   "outputs": [
    {
     "output_type": "stream",
     "name": "stderr",
     "text": [
      "<ipython-input-9-51e21d710222>:8: SettingWithCopyWarning: \nA value is trying to be set on a copy of a slice from a DataFrame\n\nSee the caveats in the documentation: https://pandas.pydata.org/pandas-docs/stable/user_guide/indexing.html#returning-a-view-versus-a-copy\n  df['floor'][i] = imp[i][0]\n"
     ]
    }
   ],
   "source": [
    "import pandas as pd\n",
    "from sklearn.impute import SimpleImputer\n",
    "data = df[['floor', 'Price']]\n",
    "data\n",
    "imp = SimpleImputer(strategy=\"most_frequent\")\n",
    "imp = imp.fit_transform(data)\n",
    "for i in range(0,len(imp)):\n",
    "    df['floor'][i] = imp[i][0]\n",
    "    "
   ]
  },
  {
   "cell_type": "code",
   "execution_count": 10,
   "metadata": {},
   "outputs": [
    {
     "output_type": "stream",
     "name": "stderr",
     "text": [
      "<ipython-input-10-8ddc842711d3>:8: SettingWithCopyWarning: \nA value is trying to be set on a copy of a slice from a DataFrame\n\nSee the caveats in the documentation: https://pandas.pydata.org/pandas-docs/stable/user_guide/indexing.html#returning-a-view-versus-a-copy\n  df['Years'][i] = imp[i][0]\n"
     ]
    }
   ],
   "source": [
    "import pandas as pd\n",
    "from sklearn.impute import SimpleImputer\n",
    "data = df[['Years', 'Price']]\n",
    "data\n",
    "imp = SimpleImputer(strategy=\"most_frequent\")\n",
    "imp = imp.fit_transform(data)\n",
    "for i in range(0,len(imp)):\n",
    "    df['Years'][i] = imp[i][0]\n",
    "    "
   ]
  },
  {
   "cell_type": "code",
   "execution_count": 11,
   "metadata": {},
   "outputs": [
    {
     "output_type": "stream",
     "name": "stderr",
     "text": [
      "<ipython-input-11-e32e8c0e1c89>:8: SettingWithCopyWarning: \nA value is trying to be set on a copy of a slice from a DataFrame\n\nSee the caveats in the documentation: https://pandas.pydata.org/pandas-docs/stable/user_guide/indexing.html#returning-a-view-versus-a-copy\n  df['Zone'][i] = imp[i][0]\n"
     ]
    }
   ],
   "source": [
    "import pandas as pd\n",
    "from sklearn.impute import SimpleImputer\n",
    "data = df[['Zone', 'Price']]\n",
    "data\n",
    "imp = SimpleImputer(strategy=\"most_frequent\")\n",
    "imp = imp.fit_transform(data)\n",
    "for i in range(0,len(imp)):\n",
    "    df['Zone'][i] = imp[i][0]"
   ]
  },
  {
   "cell_type": "code",
   "execution_count": 12,
   "metadata": {},
   "outputs": [
    {
     "output_type": "execute_result",
     "data": {
      "text/plain": [
       "             Zone   Price Years  Rooms  Area NumberOfElevators floor\n",
       "0      کامرانیه     8.400     3      2   120                 1     5\n",
       "1       میرداماد    5.928     0      2    80                 1     3\n",
       "2       پاسداران    4.450     0      1    68                 1     1\n",
       "3       شمس آباد    6.000     0      2   120                 1     2\n",
       "4            ظفر    7.700     8      3   131                 1     1\n",
       "...           ...     ...   ...    ...   ...               ...   ...\n",
       "4465    زعفرانیه   16.200     1      3   180                 0     3\n",
       "4466       ولنجک   18.414     4      3   198                 0     3\n",
       "4467       ولنجک   21.850     2      3   230                 0     3\n",
       "4468       ولنجک   37.000     0      4   320                 0     3\n",
       "4469     محمودیه   18.500     5      3   200                 0     3\n",
       "\n",
       "[4470 rows x 7 columns]"
      ],
      "text/html": "<div>\n<style scoped>\n    .dataframe tbody tr th:only-of-type {\n        vertical-align: middle;\n    }\n\n    .dataframe tbody tr th {\n        vertical-align: top;\n    }\n\n    .dataframe thead th {\n        text-align: right;\n    }\n</style>\n<table border=\"1\" class=\"dataframe\">\n  <thead>\n    <tr style=\"text-align: right;\">\n      <th></th>\n      <th>Zone</th>\n      <th>Price</th>\n      <th>Years</th>\n      <th>Rooms</th>\n      <th>Area</th>\n      <th>NumberOfElevators</th>\n      <th>floor</th>\n    </tr>\n  </thead>\n  <tbody>\n    <tr>\n      <th>0</th>\n      <td>کامرانیه</td>\n      <td>8.400</td>\n      <td>3</td>\n      <td>2</td>\n      <td>120</td>\n      <td>1</td>\n      <td>5</td>\n    </tr>\n    <tr>\n      <th>1</th>\n      <td>میرداماد</td>\n      <td>5.928</td>\n      <td>0</td>\n      <td>2</td>\n      <td>80</td>\n      <td>1</td>\n      <td>3</td>\n    </tr>\n    <tr>\n      <th>2</th>\n      <td>پاسداران</td>\n      <td>4.450</td>\n      <td>0</td>\n      <td>1</td>\n      <td>68</td>\n      <td>1</td>\n      <td>1</td>\n    </tr>\n    <tr>\n      <th>3</th>\n      <td>شمس آباد</td>\n      <td>6.000</td>\n      <td>0</td>\n      <td>2</td>\n      <td>120</td>\n      <td>1</td>\n      <td>2</td>\n    </tr>\n    <tr>\n      <th>4</th>\n      <td>ظفر</td>\n      <td>7.700</td>\n      <td>8</td>\n      <td>3</td>\n      <td>131</td>\n      <td>1</td>\n      <td>1</td>\n    </tr>\n    <tr>\n      <th>...</th>\n      <td>...</td>\n      <td>...</td>\n      <td>...</td>\n      <td>...</td>\n      <td>...</td>\n      <td>...</td>\n      <td>...</td>\n    </tr>\n    <tr>\n      <th>4465</th>\n      <td>زعفرانیه</td>\n      <td>16.200</td>\n      <td>1</td>\n      <td>3</td>\n      <td>180</td>\n      <td>0</td>\n      <td>3</td>\n    </tr>\n    <tr>\n      <th>4466</th>\n      <td>ولنجک</td>\n      <td>18.414</td>\n      <td>4</td>\n      <td>3</td>\n      <td>198</td>\n      <td>0</td>\n      <td>3</td>\n    </tr>\n    <tr>\n      <th>4467</th>\n      <td>ولنجک</td>\n      <td>21.850</td>\n      <td>2</td>\n      <td>3</td>\n      <td>230</td>\n      <td>0</td>\n      <td>3</td>\n    </tr>\n    <tr>\n      <th>4468</th>\n      <td>ولنجک</td>\n      <td>37.000</td>\n      <td>0</td>\n      <td>4</td>\n      <td>320</td>\n      <td>0</td>\n      <td>3</td>\n    </tr>\n    <tr>\n      <th>4469</th>\n      <td>محمودیه</td>\n      <td>18.500</td>\n      <td>5</td>\n      <td>3</td>\n      <td>200</td>\n      <td>0</td>\n      <td>3</td>\n    </tr>\n  </tbody>\n</table>\n<p>4470 rows × 7 columns</p>\n</div>"
     },
     "metadata": {},
     "execution_count": 12
    }
   ],
   "source": [
    "df"
   ]
  },
  {
   "cell_type": "code",
   "execution_count": 13,
   "metadata": {},
   "outputs": [
    {
     "output_type": "execute_result",
     "data": {
      "text/plain": [
       "Zone                 0\n",
       "Price                0\n",
       "Years                0\n",
       "Rooms                0\n",
       "Area                 0\n",
       "NumberOfElevators    0\n",
       "floor                0\n",
       "dtype: int64"
      ]
     },
     "metadata": {},
     "execution_count": 13
    }
   ],
   "source": [
    "df.isnull().sum()"
   ]
  },
  {
   "cell_type": "code",
   "execution_count": 14,
   "metadata": {},
   "outputs": [
    {
     "output_type": "execute_result",
     "data": {
      "text/plain": [
       "  میرداماد               521\n",
       "  ظفر                    419\n",
       "  قیطریه                 400\n",
       "  پاسداران               329\n",
       "  اختیاریه               312\n",
       "                        ... \n",
       "  خانه گستر                1\n",
       "  جهاد                     1\n",
       "  امام خمینی               1\n",
       " مدرن کامرانیه شمالی       1\n",
       " محمودیه                   1\n",
       "Name: Zone, Length: 195, dtype: int64"
      ]
     },
     "metadata": {},
     "execution_count": 14
    }
   ],
   "source": [
    "data = df\n",
    "data['Zone'].value_counts()"
   ]
  },
  {
   "cell_type": "code",
   "execution_count": 15,
   "metadata": {},
   "outputs": [],
   "source": [
    "# Some records for Zone column are not an Area in Tehran such as 'گلسار' so \n",
    "#I create a list of district for Tehran and Also translate each Zone to English. \n",
    "InTehran = [('الهیه','Elahie'),('نیاوران','Niavaran'),('جلفا','Jolfa'),('دیباجی','Dibaji'),\n",
    "('دولت','Dowlat'),('تهرانپارس','Tehran_pars'),\n",
    "('بوکان','Bukan'),('قلهک','Qolhak'),('جمشیدیه','Jamshidieh'),('سید خندان','Sed_Khandan'),\n",
    "('اقدسیه','Aqdasieh'),('اندرزگو','Andarzgu'),('دزاشیب','Dezashib'),('نبرد','Nabard'),\n",
    "('نیروی هوایی','Niru_havai'),('ونک','Vanak'),('مهران','Mehran'),('زعفرانیه','Zaferanieh'),\n",
    "('اختیاریه','Ekhtiarieh'),('فرمانیه','Farmanieh'),('هروی','Heravi'),('قیطریه','Qeitarieh'),\n",
    "('ولنجک','Velenjak'),('میرداماد','Mirdamad'),('کامرانیه','Kamranieh'),\n",
    "('پاسداران','Pasdaran'),('ظفر','Zafar'),('شمس آباد','ShamsAbad')]\n"
   ]
  },
  {
   "cell_type": "code",
   "execution_count": 16,
   "metadata": {},
   "outputs": [
    {
     "output_type": "stream",
     "name": "stderr",
     "text": [
      "<ipython-input-16-be7cfc8abb45>:52: SettingWithCopyWarning: \n",
      "A value is trying to be set on a copy of a slice from a DataFrame\n",
      "\n",
      "See the caveats in the documentation: https://pandas.pydata.org/pandas-docs/stable/user_guide/indexing.html#returning-a-view-versus-a-copy\n",
      "  df['Zone'][i]= InTehran[24][1]\n",
      "<ipython-input-16-be7cfc8abb45>:50: SettingWithCopyWarning: \n",
      "A value is trying to be set on a copy of a slice from a DataFrame\n",
      "\n",
      "See the caveats in the documentation: https://pandas.pydata.org/pandas-docs/stable/user_guide/indexing.html#returning-a-view-versus-a-copy\n",
      "  df['Zone'][i]= InTehran[23][1]\n",
      "<ipython-input-16-be7cfc8abb45>:54: SettingWithCopyWarning: \n",
      "A value is trying to be set on a copy of a slice from a DataFrame\n",
      "\n",
      "See the caveats in the documentation: https://pandas.pydata.org/pandas-docs/stable/user_guide/indexing.html#returning-a-view-versus-a-copy\n",
      "  df['Zone'][i]= InTehran[25][1]\n",
      "<ipython-input-16-be7cfc8abb45>:58: SettingWithCopyWarning: \n",
      "A value is trying to be set on a copy of a slice from a DataFrame\n",
      "\n",
      "See the caveats in the documentation: https://pandas.pydata.org/pandas-docs/stable/user_guide/indexing.html#returning-a-view-versus-a-copy\n",
      "  df['Zone'][i]= InTehran[27][1]\n",
      "<ipython-input-16-be7cfc8abb45>:56: SettingWithCopyWarning: \n",
      "A value is trying to be set on a copy of a slice from a DataFrame\n",
      "\n",
      "See the caveats in the documentation: https://pandas.pydata.org/pandas-docs/stable/user_guide/indexing.html#returning-a-view-versus-a-copy\n",
      "  df['Zone'][i]= InTehran[26][1]\n",
      "<ipython-input-16-be7cfc8abb45>:48: SettingWithCopyWarning: \n",
      "A value is trying to be set on a copy of a slice from a DataFrame\n",
      "\n",
      "See the caveats in the documentation: https://pandas.pydata.org/pandas-docs/stable/user_guide/indexing.html#returning-a-view-versus-a-copy\n",
      "  df['Zone'][i]= InTehran[22][1]\n",
      "<ipython-input-16-be7cfc8abb45>:46: SettingWithCopyWarning: \n",
      "A value is trying to be set on a copy of a slice from a DataFrame\n",
      "\n",
      "See the caveats in the documentation: https://pandas.pydata.org/pandas-docs/stable/user_guide/indexing.html#returning-a-view-versus-a-copy\n",
      "  df['Zone'][i]= InTehran[21][1]\n",
      "<ipython-input-16-be7cfc8abb45>:44: SettingWithCopyWarning: \n",
      "A value is trying to be set on a copy of a slice from a DataFrame\n",
      "\n",
      "See the caveats in the documentation: https://pandas.pydata.org/pandas-docs/stable/user_guide/indexing.html#returning-a-view-versus-a-copy\n",
      "  df['Zone'][i]= InTehran[20][1]\n",
      "<ipython-input-16-be7cfc8abb45>:42: SettingWithCopyWarning: \n",
      "A value is trying to be set on a copy of a slice from a DataFrame\n",
      "\n",
      "See the caveats in the documentation: https://pandas.pydata.org/pandas-docs/stable/user_guide/indexing.html#returning-a-view-versus-a-copy\n",
      "  df['Zone'][i]= InTehran[19][1]\n",
      "<ipython-input-16-be7cfc8abb45>:40: SettingWithCopyWarning: \n",
      "A value is trying to be set on a copy of a slice from a DataFrame\n",
      "\n",
      "See the caveats in the documentation: https://pandas.pydata.org/pandas-docs/stable/user_guide/indexing.html#returning-a-view-versus-a-copy\n",
      "  df['Zone'][i]= InTehran[18][1]\n",
      "<ipython-input-16-be7cfc8abb45>:38: SettingWithCopyWarning: \n",
      "A value is trying to be set on a copy of a slice from a DataFrame\n",
      "\n",
      "See the caveats in the documentation: https://pandas.pydata.org/pandas-docs/stable/user_guide/indexing.html#returning-a-view-versus-a-copy\n",
      "  df['Zone'][i]= InTehran[17][1]\n",
      "<ipython-input-16-be7cfc8abb45>:36: SettingWithCopyWarning: \n",
      "A value is trying to be set on a copy of a slice from a DataFrame\n",
      "\n",
      "See the caveats in the documentation: https://pandas.pydata.org/pandas-docs/stable/user_guide/indexing.html#returning-a-view-versus-a-copy\n",
      "  df['Zone'][i]= InTehran[16][1]\n",
      "<ipython-input-16-be7cfc8abb45>:12: SettingWithCopyWarning: \n",
      "A value is trying to be set on a copy of a slice from a DataFrame\n",
      "\n",
      "See the caveats in the documentation: https://pandas.pydata.org/pandas-docs/stable/user_guide/indexing.html#returning-a-view-versus-a-copy\n",
      "  df['Zone'][i]= InTehran[4][1]\n",
      "<ipython-input-16-be7cfc8abb45>:10: SettingWithCopyWarning: \n",
      "A value is trying to be set on a copy of a slice from a DataFrame\n",
      "\n",
      "See the caveats in the documentation: https://pandas.pydata.org/pandas-docs/stable/user_guide/indexing.html#returning-a-view-versus-a-copy\n",
      "  df['Zone'][i]= InTehran[3][1]\n",
      "<ipython-input-16-be7cfc8abb45>:4: SettingWithCopyWarning: \n",
      "A value is trying to be set on a copy of a slice from a DataFrame\n",
      "\n",
      "See the caveats in the documentation: https://pandas.pydata.org/pandas-docs/stable/user_guide/indexing.html#returning-a-view-versus-a-copy\n",
      "  df['Zone'][i]= InTehran[0][1]\n",
      "<ipython-input-16-be7cfc8abb45>:6: SettingWithCopyWarning: \n",
      "A value is trying to be set on a copy of a slice from a DataFrame\n",
      "\n",
      "See the caveats in the documentation: https://pandas.pydata.org/pandas-docs/stable/user_guide/indexing.html#returning-a-view-versus-a-copy\n",
      "  df['Zone'][i]= InTehran[1][1]\n",
      "<ipython-input-16-be7cfc8abb45>:8: SettingWithCopyWarning: \n",
      "A value is trying to be set on a copy of a slice from a DataFrame\n",
      "\n",
      "See the caveats in the documentation: https://pandas.pydata.org/pandas-docs/stable/user_guide/indexing.html#returning-a-view-versus-a-copy\n",
      "  df['Zone'][i]= InTehran[2][1]\n",
      "<ipython-input-16-be7cfc8abb45>:18: SettingWithCopyWarning: \n",
      "A value is trying to be set on a copy of a slice from a DataFrame\n",
      "\n",
      "See the caveats in the documentation: https://pandas.pydata.org/pandas-docs/stable/user_guide/indexing.html#returning-a-view-versus-a-copy\n",
      "  df['Zone'][i]= InTehran[7][1]\n",
      "<ipython-input-16-be7cfc8abb45>:61: SettingWithCopyWarning: \n",
      "A value is trying to be set on a copy of a slice from a DataFrame\n",
      "\n",
      "See the caveats in the documentation: https://pandas.pydata.org/pandas-docs/stable/user_guide/indexing.html#returning-a-view-versus-a-copy\n",
      "  df['Zone'][i]= None\n",
      "<ipython-input-16-be7cfc8abb45>:20: SettingWithCopyWarning: \n",
      "A value is trying to be set on a copy of a slice from a DataFrame\n",
      "\n",
      "See the caveats in the documentation: https://pandas.pydata.org/pandas-docs/stable/user_guide/indexing.html#returning-a-view-versus-a-copy\n",
      "  df['Zone'][i]= InTehran[8][1]\n",
      "<ipython-input-16-be7cfc8abb45>:14: SettingWithCopyWarning: \n",
      "A value is trying to be set on a copy of a slice from a DataFrame\n",
      "\n",
      "See the caveats in the documentation: https://pandas.pydata.org/pandas-docs/stable/user_guide/indexing.html#returning-a-view-versus-a-copy\n",
      "  df['Zone'][i]= InTehran[5][1]\n",
      "<ipython-input-16-be7cfc8abb45>:16: SettingWithCopyWarning: \n",
      "A value is trying to be set on a copy of a slice from a DataFrame\n",
      "\n",
      "See the caveats in the documentation: https://pandas.pydata.org/pandas-docs/stable/user_guide/indexing.html#returning-a-view-versus-a-copy\n",
      "  df['Zone'][i]= InTehran[6][1]\n",
      "<ipython-input-16-be7cfc8abb45>:22: SettingWithCopyWarning: \n",
      "A value is trying to be set on a copy of a slice from a DataFrame\n",
      "\n",
      "See the caveats in the documentation: https://pandas.pydata.org/pandas-docs/stable/user_guide/indexing.html#returning-a-view-versus-a-copy\n",
      "  df['Zone'][i]= InTehran[9][1]\n",
      "<ipython-input-16-be7cfc8abb45>:24: SettingWithCopyWarning: \n",
      "A value is trying to be set on a copy of a slice from a DataFrame\n",
      "\n",
      "See the caveats in the documentation: https://pandas.pydata.org/pandas-docs/stable/user_guide/indexing.html#returning-a-view-versus-a-copy\n",
      "  df['Zone'][i]= InTehran[10][1]\n",
      "<ipython-input-16-be7cfc8abb45>:26: SettingWithCopyWarning: \n",
      "A value is trying to be set on a copy of a slice from a DataFrame\n",
      "\n",
      "See the caveats in the documentation: https://pandas.pydata.org/pandas-docs/stable/user_guide/indexing.html#returning-a-view-versus-a-copy\n",
      "  df['Zone'][i]= InTehran[11][1]\n",
      "<ipython-input-16-be7cfc8abb45>:28: SettingWithCopyWarning: \n",
      "A value is trying to be set on a copy of a slice from a DataFrame\n",
      "\n",
      "See the caveats in the documentation: https://pandas.pydata.org/pandas-docs/stable/user_guide/indexing.html#returning-a-view-versus-a-copy\n",
      "  df['Zone'][i]= InTehran[12][1]\n",
      "<ipython-input-16-be7cfc8abb45>:30: SettingWithCopyWarning: \n",
      "A value is trying to be set on a copy of a slice from a DataFrame\n",
      "\n",
      "See the caveats in the documentation: https://pandas.pydata.org/pandas-docs/stable/user_guide/indexing.html#returning-a-view-versus-a-copy\n",
      "  df['Zone'][i]= InTehran[13][1]\n",
      "<ipython-input-16-be7cfc8abb45>:32: SettingWithCopyWarning: \n",
      "A value is trying to be set on a copy of a slice from a DataFrame\n",
      "\n",
      "See the caveats in the documentation: https://pandas.pydata.org/pandas-docs/stable/user_guide/indexing.html#returning-a-view-versus-a-copy\n",
      "  df['Zone'][i]= InTehran[14][1]\n",
      "<ipython-input-16-be7cfc8abb45>:34: SettingWithCopyWarning: \n",
      "A value is trying to be set on a copy of a slice from a DataFrame\n",
      "\n",
      "See the caveats in the documentation: https://pandas.pydata.org/pandas-docs/stable/user_guide/indexing.html#returning-a-view-versus-a-copy\n",
      "  df['Zone'][i]= InTehran[15][1]\n",
      "<ipython-input-16-be7cfc8abb45>:65: SettingWithCopyWarning: \n",
      "A value is trying to be set on a copy of a slice from a DataFrame\n",
      "\n",
      "See the caveats in the documentation: https://pandas.pydata.org/pandas-docs/stable/user_guide/indexing.html#returning-a-view-versus-a-copy\n",
      "  df['Zone'][i] = np.nan\n"
     ]
    }
   ],
   "source": [
    "# translation of each Zone in Tehran and assigning None type value to those which are not in Tehran(I plan to remove these record)\n",
    "for i in range(0,len(data['Zone'])):\n",
    "    if InTehran[0][0] in df['Zone'][i]:    \n",
    "        df['Zone'][i]= InTehran[0][1]\n",
    "    elif InTehran[1][0] in df['Zone'][i]:\n",
    "        df['Zone'][i]= InTehran[1][1]\n",
    "    elif InTehran[2][0] in df['Zone'][i]:\n",
    "        df['Zone'][i]= InTehran[2][1]\n",
    "    elif InTehran[3][0] in df['Zone'][i]:\n",
    "        df['Zone'][i]= InTehran[3][1]\n",
    "    elif InTehran[4][0] in df['Zone'][i]:\n",
    "        df['Zone'][i]= InTehran[4][1]\n",
    "    elif InTehran[5][0] in df['Zone'][i]:\n",
    "        df['Zone'][i]= InTehran[5][1]\n",
    "    elif InTehran[6][0] in df['Zone'][i]:\n",
    "        df['Zone'][i]= InTehran[6][1]\n",
    "    elif InTehran[7][0] in df['Zone'][i]:\n",
    "        df['Zone'][i]= InTehran[7][1]\n",
    "    elif InTehran[8][0] in df['Zone'][i]:\n",
    "        df['Zone'][i]= InTehran[8][1]\n",
    "    elif InTehran[9][0] in df['Zone'][i]:\n",
    "        df['Zone'][i]= InTehran[9][1]\n",
    "    elif InTehran[10][0] in df['Zone'][i]:\n",
    "        df['Zone'][i]= InTehran[10][1]\n",
    "    elif InTehran[11][0] in df['Zone'][i]:\n",
    "        df['Zone'][i]= InTehran[11][1]\n",
    "    elif InTehran[12][0] in df['Zone'][i]:\n",
    "        df['Zone'][i]= InTehran[12][1]\n",
    "    elif InTehran[13][0] in df['Zone'][i]:\n",
    "        df['Zone'][i]= InTehran[13][1]\n",
    "    elif InTehran[14][0] in df['Zone'][i]:\n",
    "        df['Zone'][i]= InTehran[14][1]\n",
    "    elif InTehran[15][0] in df['Zone'][i]:\n",
    "        df['Zone'][i]= InTehran[15][1]\n",
    "    elif InTehran[16][0] in df['Zone'][i]:\n",
    "        df['Zone'][i]= InTehran[16][1]\n",
    "    elif InTehran[17][0] in df['Zone'][i]:\n",
    "        df['Zone'][i]= InTehran[17][1]\n",
    "    elif InTehran[18][0] in df['Zone'][i]:\n",
    "        df['Zone'][i]= InTehran[18][1]\n",
    "    elif InTehran[19][0] in df['Zone'][i]:\n",
    "        df['Zone'][i]= InTehran[19][1]\n",
    "    elif InTehran[20][0] in df['Zone'][i]:\n",
    "        df['Zone'][i]= InTehran[20][1]\n",
    "    elif InTehran[21][0] in df['Zone'][i]:\n",
    "        df['Zone'][i]= InTehran[21][1]\n",
    "    elif InTehran[22][0] in df['Zone'][i]:\n",
    "        df['Zone'][i]= InTehran[22][1]\n",
    "    elif InTehran[23][0] in df['Zone'][i]:\n",
    "        df['Zone'][i]= InTehran[23][1]\n",
    "    elif InTehran[24][0] in df['Zone'][i]:\n",
    "        df['Zone'][i]= InTehran[24][1]\n",
    "    elif InTehran[25][0] in df['Zone'][i]:\n",
    "        df['Zone'][i]= InTehran[25][1]\n",
    "    elif InTehran[26][0] in df['Zone'][i]:\n",
    "        df['Zone'][i]= InTehran[26][1]\n",
    "    elif InTehran[27][0] in df['Zone'][i]:\n",
    "        df['Zone'][i]= InTehran[27][1]\n",
    "    \n",
    "    else:\n",
    "        df['Zone'][i]= None\n",
    "\n",
    "for i in range(0,len(df['Zone'])):\n",
    "    if df['Zone'][i] == None:\n",
    "        df['Zone'][i] = np.nan\n",
    "df=df.dropna(subset = ['Zone']) # drop the rows that the target value has not any value.\n",
    "df.index = range(0,df.shape[0]) # re index the dataframe"
   ]
  },
  {
   "cell_type": "code",
   "execution_count": 17,
   "metadata": {},
   "outputs": [
    {
     "output_type": "execute_result",
     "data": {
      "text/plain": [
       "Mirdamad       521\n",
       "Zafar          419\n",
       "Qeitarieh      411\n",
       "Pasdaran       329\n",
       "Ekhtiarieh     312\n",
       "Zaferanieh     267\n",
       "Heravi         231\n",
       "Dowlat         227\n",
       "Farmanieh      165\n",
       "Dibaji         124\n",
       "Niavaran       100\n",
       "Qolhak          95\n",
       "Tehran_pars     94\n",
       "Velenjak        92\n",
       "Jolfa           73\n",
       "Mehran          44\n",
       "Elahie          39\n",
       "Nabard          35\n",
       "Vanak           35\n",
       "Kamranieh       30\n",
       "Aqdasieh        26\n",
       "Dezashib        24\n",
       "ShamsAbad       15\n",
       "Niru_havai      14\n",
       "Sed_Khandan     14\n",
       "Jamshidieh       9\n",
       "Andarzgu         7\n",
       "Bukan            6\n",
       "Name: Zone, dtype: int64"
      ]
     },
     "metadata": {},
     "execution_count": 17
    }
   ],
   "source": [
    "data['Zone'].value_counts()"
   ]
  },
  {
   "cell_type": "code",
   "execution_count": 18,
   "metadata": {},
   "outputs": [
    {
     "output_type": "execute_result",
     "data": {
      "text/plain": [
       "   Zone_Andarzgu  Zone_Aqdasieh  Zone_Bukan  Zone_Dezashib  Zone_Dibaji  \\\n",
       "0              0              0           0              0            0   \n",
       "1              0              0           0              0            0   \n",
       "2              0              0           0              0            0   \n",
       "3              0              0           0              0            0   \n",
       "4              0              0           0              0            0   \n",
       "\n",
       "   Zone_Dowlat  Zone_Ekhtiarieh  Zone_Elahie  Zone_Farmanieh  Zone_Heravi  \\\n",
       "0            0                0            0               0            0   \n",
       "1            0                0            0               0            0   \n",
       "2            0                0            0               0            0   \n",
       "3            0                0            0               0            0   \n",
       "4            0                0            0               0            0   \n",
       "\n",
       "   ...  Zone_Vanak  Zone_Velenjak  Zone_Zafar  Zone_Zaferanieh  Price  Years  \\\n",
       "0  ...           0              0           0                0  8.400      3   \n",
       "1  ...           0              0           0                0  5.928      0   \n",
       "2  ...           0              0           0                0  4.450      0   \n",
       "3  ...           0              0           0                0  6.000      0   \n",
       "4  ...           0              0           1                0  7.700      8   \n",
       "\n",
       "   Rooms  Area  NumberOfElevators  floor  \n",
       "0      2   120                  1      5  \n",
       "1      2    80                  1      3  \n",
       "2      1    68                  1      1  \n",
       "3      2   120                  1      2  \n",
       "4      3   131                  1      1  \n",
       "\n",
       "[5 rows x 34 columns]"
      ],
      "text/html": "<div>\n<style scoped>\n    .dataframe tbody tr th:only-of-type {\n        vertical-align: middle;\n    }\n\n    .dataframe tbody tr th {\n        vertical-align: top;\n    }\n\n    .dataframe thead th {\n        text-align: right;\n    }\n</style>\n<table border=\"1\" class=\"dataframe\">\n  <thead>\n    <tr style=\"text-align: right;\">\n      <th></th>\n      <th>Zone_Andarzgu</th>\n      <th>Zone_Aqdasieh</th>\n      <th>Zone_Bukan</th>\n      <th>Zone_Dezashib</th>\n      <th>Zone_Dibaji</th>\n      <th>Zone_Dowlat</th>\n      <th>Zone_Ekhtiarieh</th>\n      <th>Zone_Elahie</th>\n      <th>Zone_Farmanieh</th>\n      <th>Zone_Heravi</th>\n      <th>...</th>\n      <th>Zone_Vanak</th>\n      <th>Zone_Velenjak</th>\n      <th>Zone_Zafar</th>\n      <th>Zone_Zaferanieh</th>\n      <th>Price</th>\n      <th>Years</th>\n      <th>Rooms</th>\n      <th>Area</th>\n      <th>NumberOfElevators</th>\n      <th>floor</th>\n    </tr>\n  </thead>\n  <tbody>\n    <tr>\n      <th>0</th>\n      <td>0</td>\n      <td>0</td>\n      <td>0</td>\n      <td>0</td>\n      <td>0</td>\n      <td>0</td>\n      <td>0</td>\n      <td>0</td>\n      <td>0</td>\n      <td>0</td>\n      <td>...</td>\n      <td>0</td>\n      <td>0</td>\n      <td>0</td>\n      <td>0</td>\n      <td>8.400</td>\n      <td>3</td>\n      <td>2</td>\n      <td>120</td>\n      <td>1</td>\n      <td>5</td>\n    </tr>\n    <tr>\n      <th>1</th>\n      <td>0</td>\n      <td>0</td>\n      <td>0</td>\n      <td>0</td>\n      <td>0</td>\n      <td>0</td>\n      <td>0</td>\n      <td>0</td>\n      <td>0</td>\n      <td>0</td>\n      <td>...</td>\n      <td>0</td>\n      <td>0</td>\n      <td>0</td>\n      <td>0</td>\n      <td>5.928</td>\n      <td>0</td>\n      <td>2</td>\n      <td>80</td>\n      <td>1</td>\n      <td>3</td>\n    </tr>\n    <tr>\n      <th>2</th>\n      <td>0</td>\n      <td>0</td>\n      <td>0</td>\n      <td>0</td>\n      <td>0</td>\n      <td>0</td>\n      <td>0</td>\n      <td>0</td>\n      <td>0</td>\n      <td>0</td>\n      <td>...</td>\n      <td>0</td>\n      <td>0</td>\n      <td>0</td>\n      <td>0</td>\n      <td>4.450</td>\n      <td>0</td>\n      <td>1</td>\n      <td>68</td>\n      <td>1</td>\n      <td>1</td>\n    </tr>\n    <tr>\n      <th>3</th>\n      <td>0</td>\n      <td>0</td>\n      <td>0</td>\n      <td>0</td>\n      <td>0</td>\n      <td>0</td>\n      <td>0</td>\n      <td>0</td>\n      <td>0</td>\n      <td>0</td>\n      <td>...</td>\n      <td>0</td>\n      <td>0</td>\n      <td>0</td>\n      <td>0</td>\n      <td>6.000</td>\n      <td>0</td>\n      <td>2</td>\n      <td>120</td>\n      <td>1</td>\n      <td>2</td>\n    </tr>\n    <tr>\n      <th>4</th>\n      <td>0</td>\n      <td>0</td>\n      <td>0</td>\n      <td>0</td>\n      <td>0</td>\n      <td>0</td>\n      <td>0</td>\n      <td>0</td>\n      <td>0</td>\n      <td>0</td>\n      <td>...</td>\n      <td>0</td>\n      <td>0</td>\n      <td>1</td>\n      <td>0</td>\n      <td>7.700</td>\n      <td>8</td>\n      <td>3</td>\n      <td>131</td>\n      <td>1</td>\n      <td>1</td>\n    </tr>\n  </tbody>\n</table>\n<p>5 rows × 34 columns</p>\n</div>"
     },
     "metadata": {},
     "execution_count": 18
    }
   ],
   "source": [
    "zone = pd.get_dummies(df['Zone'], prefix='Zone')\n",
    "df=df.drop(columns=['Zone'])\n",
    "data = pd.concat([zone,df],axis=1)\n",
    "data.head()"
   ]
  },
  {
   "cell_type": "code",
   "execution_count": 19,
   "metadata": {},
   "outputs": [
    {
     "output_type": "execute_result",
     "data": {
      "text/plain": [
       "      Price\n",
       "0       3.0\n",
       "1       1.0\n",
       "2       0.0\n",
       "3       1.0\n",
       "4       2.0\n",
       "...     ...\n",
       "3753    5.0\n",
       "3754    5.0\n",
       "3755    5.0\n",
       "3756    5.0\n",
       "3757    5.0\n",
       "\n",
       "[3758 rows x 1 columns]"
      ],
      "text/html": "<div>\n<style scoped>\n    .dataframe tbody tr th:only-of-type {\n        vertical-align: middle;\n    }\n\n    .dataframe tbody tr th {\n        vertical-align: top;\n    }\n\n    .dataframe thead th {\n        text-align: right;\n    }\n</style>\n<table border=\"1\" class=\"dataframe\">\n  <thead>\n    <tr style=\"text-align: right;\">\n      <th></th>\n      <th>Price</th>\n    </tr>\n  </thead>\n  <tbody>\n    <tr>\n      <th>0</th>\n      <td>3.0</td>\n    </tr>\n    <tr>\n      <th>1</th>\n      <td>1.0</td>\n    </tr>\n    <tr>\n      <th>2</th>\n      <td>0.0</td>\n    </tr>\n    <tr>\n      <th>3</th>\n      <td>1.0</td>\n    </tr>\n    <tr>\n      <th>4</th>\n      <td>2.0</td>\n    </tr>\n    <tr>\n      <th>...</th>\n      <td>...</td>\n    </tr>\n    <tr>\n      <th>3753</th>\n      <td>5.0</td>\n    </tr>\n    <tr>\n      <th>3754</th>\n      <td>5.0</td>\n    </tr>\n    <tr>\n      <th>3755</th>\n      <td>5.0</td>\n    </tr>\n    <tr>\n      <th>3756</th>\n      <td>5.0</td>\n    </tr>\n    <tr>\n      <th>3757</th>\n      <td>5.0</td>\n    </tr>\n  </tbody>\n</table>\n<p>3758 rows × 1 columns</p>\n</div>"
     },
     "metadata": {},
     "execution_count": 19
    }
   ],
   "source": [
    "from sklearn.preprocessing import KBinsDiscretizer\n",
    "# kbins is created\n",
    "kbins = KBinsDiscretizer(n_bins=6, encode='ordinal', strategy='quantile')\n",
    "# target feature is Discretized\n",
    "df_y = pd.DataFrame(\n",
    "    kbins.fit_transform(data[['Price']]), \n",
    "    columns=['Price']\n",
    ")\n",
    "df_y"
   ]
  },
  {
   "cell_type": "code",
   "execution_count": 20,
   "metadata": {},
   "outputs": [
    {
     "output_type": "execute_result",
     "data": {
      "text/plain": [
       "      Zone_Andarzgu  Zone_Aqdasieh  Zone_Bukan  Zone_Dezashib  Zone_Dibaji  \\\n",
       "0                 0              0           0              0            0   \n",
       "1                 0              0           0              0            0   \n",
       "2                 0              0           0              0            0   \n",
       "3                 0              0           0              0            0   \n",
       "4                 0              0           0              0            0   \n",
       "...             ...            ...         ...            ...          ...   \n",
       "3753              0              0           0              0            0   \n",
       "3754              0              0           0              0            0   \n",
       "3755              0              0           0              0            0   \n",
       "3756              0              0           0              0            0   \n",
       "3757              0              0           0              0            0   \n",
       "\n",
       "      Zone_Dowlat  Zone_Ekhtiarieh  Zone_Elahie  Zone_Farmanieh  Zone_Heravi  \\\n",
       "0               0                0            0               0            0   \n",
       "1               0                0            0               0            0   \n",
       "2               0                0            0               0            0   \n",
       "3               0                0            0               0            0   \n",
       "4               0                0            0               0            0   \n",
       "...           ...              ...          ...             ...          ...   \n",
       "3753            0                0            0               0            0   \n",
       "3754            0                0            0               0            0   \n",
       "3755            0                0            0               0            0   \n",
       "3756            0                0            0               0            0   \n",
       "3757            0                0            0               0            0   \n",
       "\n",
       "      ...  Zone_Vanak  Zone_Velenjak  Zone_Zafar  Zone_Zaferanieh  Years  \\\n",
       "0     ...           0              0           0                0      3   \n",
       "1     ...           0              0           0                0      0   \n",
       "2     ...           0              0           0                0      0   \n",
       "3     ...           0              0           0                0      0   \n",
       "4     ...           0              0           1                0      8   \n",
       "...   ...         ...            ...         ...              ...    ...   \n",
       "3753  ...           0              0           0                1      2   \n",
       "3754  ...           0              0           0                1      1   \n",
       "3755  ...           0              1           0                0      4   \n",
       "3756  ...           0              1           0                0      2   \n",
       "3757  ...           0              1           0                0      0   \n",
       "\n",
       "      Rooms  Area  NumberOfElevators  floor  Price  \n",
       "0         2   120                  1      5    3.0  \n",
       "1         2    80                  1      3    1.0  \n",
       "2         1    68                  1      1    0.0  \n",
       "3         2   120                  1      2    1.0  \n",
       "4         3   131                  1      1    2.0  \n",
       "...     ...   ...                ...    ...    ...  \n",
       "3753      3   225                  0      3    5.0  \n",
       "3754      3   180                  0      3    5.0  \n",
       "3755      3   198                  0      3    5.0  \n",
       "3756      3   230                  0      3    5.0  \n",
       "3757      4   320                  0      3    5.0  \n",
       "\n",
       "[3758 rows x 34 columns]"
      ],
      "text/html": "<div>\n<style scoped>\n    .dataframe tbody tr th:only-of-type {\n        vertical-align: middle;\n    }\n\n    .dataframe tbody tr th {\n        vertical-align: top;\n    }\n\n    .dataframe thead th {\n        text-align: right;\n    }\n</style>\n<table border=\"1\" class=\"dataframe\">\n  <thead>\n    <tr style=\"text-align: right;\">\n      <th></th>\n      <th>Zone_Andarzgu</th>\n      <th>Zone_Aqdasieh</th>\n      <th>Zone_Bukan</th>\n      <th>Zone_Dezashib</th>\n      <th>Zone_Dibaji</th>\n      <th>Zone_Dowlat</th>\n      <th>Zone_Ekhtiarieh</th>\n      <th>Zone_Elahie</th>\n      <th>Zone_Farmanieh</th>\n      <th>Zone_Heravi</th>\n      <th>...</th>\n      <th>Zone_Vanak</th>\n      <th>Zone_Velenjak</th>\n      <th>Zone_Zafar</th>\n      <th>Zone_Zaferanieh</th>\n      <th>Years</th>\n      <th>Rooms</th>\n      <th>Area</th>\n      <th>NumberOfElevators</th>\n      <th>floor</th>\n      <th>Price</th>\n    </tr>\n  </thead>\n  <tbody>\n    <tr>\n      <th>0</th>\n      <td>0</td>\n      <td>0</td>\n      <td>0</td>\n      <td>0</td>\n      <td>0</td>\n      <td>0</td>\n      <td>0</td>\n      <td>0</td>\n      <td>0</td>\n      <td>0</td>\n      <td>...</td>\n      <td>0</td>\n      <td>0</td>\n      <td>0</td>\n      <td>0</td>\n      <td>3</td>\n      <td>2</td>\n      <td>120</td>\n      <td>1</td>\n      <td>5</td>\n      <td>3.0</td>\n    </tr>\n    <tr>\n      <th>1</th>\n      <td>0</td>\n      <td>0</td>\n      <td>0</td>\n      <td>0</td>\n      <td>0</td>\n      <td>0</td>\n      <td>0</td>\n      <td>0</td>\n      <td>0</td>\n      <td>0</td>\n      <td>...</td>\n      <td>0</td>\n      <td>0</td>\n      <td>0</td>\n      <td>0</td>\n      <td>0</td>\n      <td>2</td>\n      <td>80</td>\n      <td>1</td>\n      <td>3</td>\n      <td>1.0</td>\n    </tr>\n    <tr>\n      <th>2</th>\n      <td>0</td>\n      <td>0</td>\n      <td>0</td>\n      <td>0</td>\n      <td>0</td>\n      <td>0</td>\n      <td>0</td>\n      <td>0</td>\n      <td>0</td>\n      <td>0</td>\n      <td>...</td>\n      <td>0</td>\n      <td>0</td>\n      <td>0</td>\n      <td>0</td>\n      <td>0</td>\n      <td>1</td>\n      <td>68</td>\n      <td>1</td>\n      <td>1</td>\n      <td>0.0</td>\n    </tr>\n    <tr>\n      <th>3</th>\n      <td>0</td>\n      <td>0</td>\n      <td>0</td>\n      <td>0</td>\n      <td>0</td>\n      <td>0</td>\n      <td>0</td>\n      <td>0</td>\n      <td>0</td>\n      <td>0</td>\n      <td>...</td>\n      <td>0</td>\n      <td>0</td>\n      <td>0</td>\n      <td>0</td>\n      <td>0</td>\n      <td>2</td>\n      <td>120</td>\n      <td>1</td>\n      <td>2</td>\n      <td>1.0</td>\n    </tr>\n    <tr>\n      <th>4</th>\n      <td>0</td>\n      <td>0</td>\n      <td>0</td>\n      <td>0</td>\n      <td>0</td>\n      <td>0</td>\n      <td>0</td>\n      <td>0</td>\n      <td>0</td>\n      <td>0</td>\n      <td>...</td>\n      <td>0</td>\n      <td>0</td>\n      <td>1</td>\n      <td>0</td>\n      <td>8</td>\n      <td>3</td>\n      <td>131</td>\n      <td>1</td>\n      <td>1</td>\n      <td>2.0</td>\n    </tr>\n    <tr>\n      <th>...</th>\n      <td>...</td>\n      <td>...</td>\n      <td>...</td>\n      <td>...</td>\n      <td>...</td>\n      <td>...</td>\n      <td>...</td>\n      <td>...</td>\n      <td>...</td>\n      <td>...</td>\n      <td>...</td>\n      <td>...</td>\n      <td>...</td>\n      <td>...</td>\n      <td>...</td>\n      <td>...</td>\n      <td>...</td>\n      <td>...</td>\n      <td>...</td>\n      <td>...</td>\n      <td>...</td>\n    </tr>\n    <tr>\n      <th>3753</th>\n      <td>0</td>\n      <td>0</td>\n      <td>0</td>\n      <td>0</td>\n      <td>0</td>\n      <td>0</td>\n      <td>0</td>\n      <td>0</td>\n      <td>0</td>\n      <td>0</td>\n      <td>...</td>\n      <td>0</td>\n      <td>0</td>\n      <td>0</td>\n      <td>1</td>\n      <td>2</td>\n      <td>3</td>\n      <td>225</td>\n      <td>0</td>\n      <td>3</td>\n      <td>5.0</td>\n    </tr>\n    <tr>\n      <th>3754</th>\n      <td>0</td>\n      <td>0</td>\n      <td>0</td>\n      <td>0</td>\n      <td>0</td>\n      <td>0</td>\n      <td>0</td>\n      <td>0</td>\n      <td>0</td>\n      <td>0</td>\n      <td>...</td>\n      <td>0</td>\n      <td>0</td>\n      <td>0</td>\n      <td>1</td>\n      <td>1</td>\n      <td>3</td>\n      <td>180</td>\n      <td>0</td>\n      <td>3</td>\n      <td>5.0</td>\n    </tr>\n    <tr>\n      <th>3755</th>\n      <td>0</td>\n      <td>0</td>\n      <td>0</td>\n      <td>0</td>\n      <td>0</td>\n      <td>0</td>\n      <td>0</td>\n      <td>0</td>\n      <td>0</td>\n      <td>0</td>\n      <td>...</td>\n      <td>0</td>\n      <td>1</td>\n      <td>0</td>\n      <td>0</td>\n      <td>4</td>\n      <td>3</td>\n      <td>198</td>\n      <td>0</td>\n      <td>3</td>\n      <td>5.0</td>\n    </tr>\n    <tr>\n      <th>3756</th>\n      <td>0</td>\n      <td>0</td>\n      <td>0</td>\n      <td>0</td>\n      <td>0</td>\n      <td>0</td>\n      <td>0</td>\n      <td>0</td>\n      <td>0</td>\n      <td>0</td>\n      <td>...</td>\n      <td>0</td>\n      <td>1</td>\n      <td>0</td>\n      <td>0</td>\n      <td>2</td>\n      <td>3</td>\n      <td>230</td>\n      <td>0</td>\n      <td>3</td>\n      <td>5.0</td>\n    </tr>\n    <tr>\n      <th>3757</th>\n      <td>0</td>\n      <td>0</td>\n      <td>0</td>\n      <td>0</td>\n      <td>0</td>\n      <td>0</td>\n      <td>0</td>\n      <td>0</td>\n      <td>0</td>\n      <td>0</td>\n      <td>...</td>\n      <td>0</td>\n      <td>1</td>\n      <td>0</td>\n      <td>0</td>\n      <td>0</td>\n      <td>4</td>\n      <td>320</td>\n      <td>0</td>\n      <td>3</td>\n      <td>5.0</td>\n    </tr>\n  </tbody>\n</table>\n<p>3758 rows × 34 columns</p>\n</div>"
     },
     "metadata": {},
     "execution_count": 20
    }
   ],
   "source": [
    "# re construct the data frame\n",
    "data=data.drop(columns=['Price'])\n",
    "data = pd.concat([data,df_y],axis=1)\n",
    "data"
   ]
  },
  {
   "cell_type": "code",
   "execution_count": 21,
   "metadata": {},
   "outputs": [],
   "source": [
    "# split the data frame into train set and test set\n",
    "from sklearn.model_selection import train_test_split\n",
    "import sklearn\n",
    "\n",
    "x_feature=data.loc[ : , data.columns !='Price']\n",
    "y_feature=data['Price']\n",
    "x_train,x_test,y_train,y_test = train_test_split(x_feature,y_feature,test_size=0.25,random_state=0)\n"
   ]
  },
  {
   "cell_type": "code",
   "execution_count": 22,
   "metadata": {},
   "outputs": [],
   "source": [
    "# Model Selection:\n",
    "\n",
    "# SVM:\n",
    "from sklearn import svm\n",
    "clf_svm = svm.SVC()  #create svm classifier\n",
    "clf_svm.fit(x_train, y_train) # learning\n",
    "# prediction process\n",
    "SvmPrediction=clf_svm.predict(x_test) #prediction\n"
   ]
  },
  {
   "cell_type": "code",
   "execution_count": 23,
   "metadata": {},
   "outputs": [
    {
     "output_type": "stream",
     "name": "stdout",
     "text": [
      "[[ 74  40  14   9   7  12]\n",
      " [ 23 100  33   6   2   0]\n",
      " [  2  31  91  32   1   0]\n",
      " [  0   4  40  66  27   9]\n",
      " [  1   0   1  36  85  24]\n",
      " [  0   0   2   1  32 135]]\n",
      "              precision    recall  f1-score   support\n",
      "\n",
      "     class 0       0.74      0.47      0.58       156\n",
      "     class 1       0.57      0.61      0.59       164\n",
      "     class 2       0.50      0.58      0.54       157\n",
      "     class 3       0.44      0.45      0.45       146\n",
      "     class 4       0.55      0.58      0.56       147\n",
      "     class 5       0.75      0.79      0.77       170\n",
      "\n",
      "    accuracy                           0.59       940\n",
      "   macro avg       0.59      0.58      0.58       940\n",
      "weighted avg       0.60      0.59      0.59       940\n",
      "\n",
      "Train Accuracy : 0.590490\n",
      "Test Accuracy : 0.586170\n"
     ]
    }
   ],
   "source": [
    "#Evaluation:\n",
    "\n",
    "from sklearn.metrics import classification_report,confusion_matrix\n",
    "y_true = y_test \n",
    "y_pred = SvmPrediction\n",
    "#create confusion_matrix\n",
    "print(confusion_matrix(y_true, y_pred))\n",
    "# create classes for classification\n",
    "target_names = ['class 0','class 1','class 2','class 3','class 4','class 5']\n",
    "#report the classification parameter \n",
    "print(classification_report(y_true, y_pred, target_names=target_names))\n",
    "# computing Train Accuracy and Test Accuracy \n",
    "print(f'Train Accuracy : {clf_svm.score(x_train,y_train):3f}')\n",
    "print(f'Test Accuracy : {clf_svm.score(x_test,y_test):3f}')"
   ]
  },
  {
   "cell_type": "code",
   "execution_count": 24,
   "metadata": {},
   "outputs": [
    {
     "output_type": "stream",
     "name": "stdout",
     "text": [
      "Fitting 5 folds for each of 4 candidates, totalling 20 fits\n"
     ]
    },
    {
     "output_type": "execute_result",
     "data": {
      "text/plain": [
       "SVC(kernel='linear')"
      ]
     },
     "metadata": {},
     "execution_count": 24
    }
   ],
   "source": [
    "# Tuning Hyper-parameter (Greedy search):\n",
    "from sklearn.model_selection import GridSearchCV\n",
    "tuned_parameters = {\n",
    "    'kernel':('linear','poly','rbf','sigmoid'),\n",
    "    \n",
    "}\n",
    "clf_svm=svm.SVC() # create classifier\n",
    "# estimate the best set of hyper-parameter\n",
    "svm_cv= GridSearchCV(clf_svm,tuned_parameters, cv=5, verbose=True)  \n",
    "svm_cv.fit(x_train, y_train)\n",
    "svm_cv.best_estimator_"
   ]
  },
  {
   "cell_type": "code",
   "execution_count": 25,
   "metadata": {},
   "outputs": [
    {
     "output_type": "stream",
     "name": "stdout",
     "text": [
      "[[ 87  35   9   5   6  14]\n",
      " [ 54  80  27   2   1   0]\n",
      " [  8  19  96  31   3   0]\n",
      " [  2   1  22  97  21   3]\n",
      " [  3   1   1  19 104  19]\n",
      " [  1   0   2   0  22 145]]\n",
      "              precision    recall  f1-score   support\n",
      "\n",
      "     class 0       0.56      0.56      0.56       156\n",
      "     class 1       0.59      0.49      0.53       164\n",
      "     class 2       0.61      0.61      0.61       157\n",
      "     class 3       0.63      0.66      0.65       146\n",
      "     class 4       0.66      0.71      0.68       147\n",
      "     class 5       0.80      0.85      0.83       170\n",
      "\n",
      "    accuracy                           0.65       940\n",
      "   macro avg       0.64      0.65      0.64       940\n",
      "weighted avg       0.64      0.65      0.64       940\n",
      "\n",
      "Train Accuracy : 0.650461\n",
      "Test Accuracy : 0.647872\n"
     ]
    }
   ],
   "source": [
    "# calcuating Accuracy with best hyper-parameter:\n",
    "clf_svm = svm.SVC(kernel='linear')\n",
    "clf_svm.fit(x_train, y_train)\n",
    "# prediction process\n",
    "SvmPrediction = clf_svm.predict(x_test)\n",
    "y_true = y_test\n",
    "y_pred = SvmPrediction\n",
    "print(confusion_matrix(y_true, y_pred))\n",
    "target_names = ['class 0','class 1','class 2','class 3','class 4','class 5']\n",
    "print(classification_report(y_true, y_pred, target_names=target_names))\n",
    "print(f'Train Accuracy : {clf_svm.score(x_train,y_train):3f}')\n",
    "print(f'Test Accuracy : {clf_svm.score(x_test,y_test):3f}')"
   ]
  },
  {
   "cell_type": "code",
   "execution_count": 26,
   "metadata": {},
   "outputs": [
    {
     "output_type": "stream",
     "name": "stdout",
     "text": [
      "Accuracy: 0.63 (+/- 0.06)\n"
     ]
    }
   ],
   "source": [
    "# Cross validation score:\n",
    "from sklearn.model_selection import cross_val_score \n",
    "clf_svm = svm.SVC(coef0=0.001, gamma=20, kernel='linear')\n",
    "scores = cross_val_score(clf_svm, x_train, y_train, cv=5)\n",
    "\n",
    "print(\"Accuracy: %0.2f (+/- %0.2f)\" % (scores.mean(), scores.std() * 2))"
   ]
  },
  {
   "cell_type": "code",
   "execution_count": 27,
   "metadata": {},
   "outputs": [],
   "source": [
    "# Ensemble Method(Random_forest):\n",
    "from sklearn.ensemble import RandomForestClassifier\n",
    "#create the classifier\n",
    "ens_classifier = RandomForestClassifier(max_depth=2)\n",
    "ens_classifier.fit(x_train, y_train) #learning\n",
    "EnsPrediction=ens_classifier.predict(x_test) #prediction"
   ]
  },
  {
   "cell_type": "code",
   "execution_count": 28,
   "metadata": {},
   "outputs": [
    {
     "output_type": "stream",
     "name": "stdout",
     "text": [
      "[[119   1  11   6   6  13]\n [100   3  40  17   2   2]\n [ 36   9  67  38   7   0]\n [  5   2  45  34  45  15]\n [  1   0   4  10  93  39]\n [  1   0   1   1  11 156]]\n              precision    recall  f1-score   support\n\n     class 0       0.45      0.76      0.57       156\n     class 1       0.20      0.02      0.03       164\n     class 2       0.40      0.43      0.41       157\n     class 3       0.32      0.23      0.27       146\n     class 4       0.57      0.63      0.60       147\n     class 5       0.69      0.92      0.79       170\n\n    accuracy                           0.50       940\n   macro avg       0.44      0.50      0.45       940\nweighted avg       0.44      0.50      0.45       940\n\nTrain Accuracy : 0.516678\nTest Accuracy : 0.502128\n"
     ]
    }
   ],
   "source": [
    "# Evaluation:\n",
    "y_true = y_test         \n",
    "y_pred = EnsPrediction   \n",
    "#create confusion_matrix\n",
    "print(confusion_matrix(y_true, y_pred))\n",
    "# create classes for classification\n",
    "target_names = ['class 0','class 1','class 2','class 3','class 4','class 5']\n",
    "#report the classification parameter \n",
    "print(classification_report(y_true, y_pred, target_names=target_names))\n",
    "## computing Train Accuracy and Test Accuracy \n",
    "print(f'Train Accuracy : {ens_classifier.score(x_train,y_train):3f}')\n",
    "print(f'Test Accuracy : {ens_classifier.score(x_test,y_test):3f}')"
   ]
  },
  {
   "cell_type": "code",
   "execution_count": 29,
   "metadata": {},
   "outputs": [
    {
     "output_type": "stream",
     "name": "stdout",
     "text": [
      "Fitting 3 folds for each of 24 candidates, totalling 72 fits\n"
     ]
    },
    {
     "output_type": "execute_result",
     "data": {
      "text/plain": [
       "RandomForestClassifier(max_depth=100)"
      ]
     },
     "metadata": {},
     "execution_count": 29
    }
   ],
   "source": [
    "# Tuning Hyper-parameter (Greedy search):\n",
    "\n",
    "from sklearn.model_selection import GridSearchCV\n",
    "tuned_parameters = {\n",
    "    'n_estimators':[10,100],\n",
    "    'max_features':('auto', 'sqrt','log2'),\n",
    "    'bootstrap':(True, False),\n",
    "    'max_depth':[2,100],\n",
    "}\n",
    "ens_classifier=RandomForestClassifier() # create classifier\n",
    "# estimate the best set of hyper-parameter\n",
    "ens_cv= GridSearchCV(ens_classifier,tuned_parameters, cv=3, verbose=2,n_jobs=4) \n",
    "\n",
    "\n",
    "\n",
    "ens_cv.fit(x_train, y_train)\n",
    "ens_cv.best_estimator_"
   ]
  },
  {
   "cell_type": "code",
   "execution_count": 30,
   "metadata": {},
   "outputs": [],
   "source": [
    "# calcuating Accuracy with best hyper-parameter:\n",
    "\n",
    "ens_classifier = RandomForestClassifier(max_depth=100, max_features='log2')\n",
    "ens_classifier.fit(x_train, y_train) #learning\n",
    "EnsPrediction=ens_classifier.predict(x_test) #prediction"
   ]
  },
  {
   "cell_type": "code",
   "execution_count": 31,
   "metadata": {},
   "outputs": [
    {
     "output_type": "stream",
     "name": "stdout",
     "text": [
      "[[109  16   4   9   6  12]\n [ 20 112  25   5   2   0]\n [  4  14 115  20   4   0]\n [  1   2  10 117  15   1]\n [  0   1   4   9 118  15]\n [  2   1   1   1  16 149]]\n              precision    recall  f1-score   support\n\n     class 0       0.80      0.70      0.75       156\n     class 1       0.77      0.68      0.72       164\n     class 2       0.72      0.73      0.73       157\n     class 3       0.73      0.80      0.76       146\n     class 4       0.73      0.80      0.77       147\n     class 5       0.84      0.88      0.86       170\n\n    accuracy                           0.77       940\n   macro avg       0.77      0.77      0.76       940\nweighted avg       0.77      0.77      0.77       940\n\nTrain Accuracy : 0.969127\nTest Accuracy : 0.765957\n"
     ]
    }
   ],
   "source": [
    "y_true = y_test \n",
    "y_pred = EnsPrediction\n",
    "#create confusion_matrix\n",
    "print(confusion_matrix(y_true, y_pred))\n",
    "# create classes for classification\n",
    "target_names = ['class 0','class 1','class 2','class 3','class 4','class 5']\n",
    "#report the classification parameter \n",
    "print(classification_report(y_true, y_pred, target_names=target_names))\n",
    "# computing Train Accuracy and Test Accuracy \n",
    "print(f'Train Accuracy : {ens_classifier.score(x_train,y_train):3f}')\n",
    "print(f'Test Accuracy : {ens_classifier.score(x_test,y_test):3f}')"
   ]
  },
  {
   "cell_type": "code",
   "execution_count": 32,
   "metadata": {},
   "outputs": [
    {
     "output_type": "stream",
     "name": "stdout",
     "text": [
      "Accuracy: 0.73 (+/- 0.03)\n"
     ]
    }
   ],
   "source": [
    "from sklearn.model_selection import cross_val_score \n",
    "ens_classifier = RandomForestClassifier(max_depth=100, max_features='log2')\n",
    "scores = cross_val_score(ens_classifier, x_train, y_train, cv=3)\n",
    "\n",
    "print(\"Accuracy: %0.2f (+/- %0.2f)\" % (scores.mean(), scores.std() * 2))"
   ]
  },
  {
   "cell_type": "code",
   "execution_count": 33,
   "metadata": {},
   "outputs": [],
   "source": [
    "# MLP model:\n",
    "from sklearn.neural_network import MLPClassifier\n",
    "\n",
    "#create a classifier\n",
    "MLP_clf = MLPClassifier()\n",
    "MLP_clf.fit(x_train, y_train)\n",
    "MLPPrediction=MLP_clf.predict(x_test)"
   ]
  },
  {
   "cell_type": "code",
   "execution_count": 34,
   "metadata": {},
   "outputs": [
    {
     "output_type": "stream",
     "name": "stdout",
     "text": [
      "[[ 99  25   7   3   6  16]\n [ 38  90  33   1   2   0]\n [  3  23 110  14   7   0]\n [ 10   2  46  47  37   4]\n [  1   0   4  10  99  33]\n [  1   0   2   0  12 155]]\n              precision    recall  f1-score   support\n\n     class 0       0.65      0.63      0.64       156\n     class 1       0.64      0.55      0.59       164\n     class 2       0.54      0.70      0.61       157\n     class 3       0.63      0.32      0.43       146\n     class 4       0.61      0.67      0.64       147\n     class 5       0.75      0.91      0.82       170\n\n    accuracy                           0.64       940\n   macro avg       0.64      0.63      0.62       940\nweighted avg       0.64      0.64      0.63       940\n\n"
     ]
    },
    {
     "output_type": "error",
     "ename": "NotFittedError",
     "evalue": "This RandomForestClassifier instance is not fitted yet. Call 'fit' with appropriate arguments before using this estimator.",
     "traceback": [
      "\u001b[0;31m---------------------------------------------------------------------------\u001b[0m",
      "\u001b[0;31mNotFittedError\u001b[0m                            Traceback (most recent call last)",
      "\u001b[0;32m<ipython-input-34-a16b37749dab>\u001b[0m in \u001b[0;36m<module>\u001b[0;34m\u001b[0m\n\u001b[1;32m      9\u001b[0m \u001b[0;31m#report the classification parameter\u001b[0m\u001b[0;34m\u001b[0m\u001b[0;34m\u001b[0m\u001b[0;34m\u001b[0m\u001b[0m\n\u001b[1;32m     10\u001b[0m \u001b[0mprint\u001b[0m\u001b[0;34m(\u001b[0m\u001b[0mclassification_report\u001b[0m\u001b[0;34m(\u001b[0m\u001b[0my_true\u001b[0m\u001b[0;34m,\u001b[0m \u001b[0my_pred\u001b[0m\u001b[0;34m,\u001b[0m \u001b[0mtarget_names\u001b[0m\u001b[0;34m=\u001b[0m\u001b[0mtarget_names\u001b[0m\u001b[0;34m)\u001b[0m\u001b[0;34m)\u001b[0m\u001b[0;34m\u001b[0m\u001b[0;34m\u001b[0m\u001b[0m\n\u001b[0;32m---> 11\u001b[0;31m \u001b[0mprint\u001b[0m\u001b[0;34m(\u001b[0m\u001b[0;34mf'Train Accuracy : {ens_classifier.score(x_train,y_train):3f}'\u001b[0m\u001b[0;34m)\u001b[0m\u001b[0;34m\u001b[0m\u001b[0;34m\u001b[0m\u001b[0m\n\u001b[0m\u001b[1;32m     12\u001b[0m \u001b[0mprint\u001b[0m\u001b[0;34m(\u001b[0m\u001b[0;34mf'Test Accuracy : {ens_classifier.score(x_test,y_test):3f}'\u001b[0m\u001b[0;34m)\u001b[0m\u001b[0;34m\u001b[0m\u001b[0;34m\u001b[0m\u001b[0m\n",
      "\u001b[0;32m~/Desktop/project/Housing/env/lib/python3.8/site-packages/sklearn/base.py\u001b[0m in \u001b[0;36mscore\u001b[0;34m(self, X, y, sample_weight)\u001b[0m\n\u001b[1;32m    498\u001b[0m         \"\"\"\n\u001b[1;32m    499\u001b[0m         \u001b[0;32mfrom\u001b[0m \u001b[0;34m.\u001b[0m\u001b[0mmetrics\u001b[0m \u001b[0;32mimport\u001b[0m \u001b[0maccuracy_score\u001b[0m\u001b[0;34m\u001b[0m\u001b[0;34m\u001b[0m\u001b[0m\n\u001b[0;32m--> 500\u001b[0;31m         \u001b[0;32mreturn\u001b[0m \u001b[0maccuracy_score\u001b[0m\u001b[0;34m(\u001b[0m\u001b[0my\u001b[0m\u001b[0;34m,\u001b[0m \u001b[0mself\u001b[0m\u001b[0;34m.\u001b[0m\u001b[0mpredict\u001b[0m\u001b[0;34m(\u001b[0m\u001b[0mX\u001b[0m\u001b[0;34m)\u001b[0m\u001b[0;34m,\u001b[0m \u001b[0msample_weight\u001b[0m\u001b[0;34m=\u001b[0m\u001b[0msample_weight\u001b[0m\u001b[0;34m)\u001b[0m\u001b[0;34m\u001b[0m\u001b[0;34m\u001b[0m\u001b[0m\n\u001b[0m\u001b[1;32m    501\u001b[0m \u001b[0;34m\u001b[0m\u001b[0m\n\u001b[1;32m    502\u001b[0m     \u001b[0;32mdef\u001b[0m \u001b[0m_more_tags\u001b[0m\u001b[0;34m(\u001b[0m\u001b[0mself\u001b[0m\u001b[0;34m)\u001b[0m\u001b[0;34m:\u001b[0m\u001b[0;34m\u001b[0m\u001b[0;34m\u001b[0m\u001b[0m\n",
      "\u001b[0;32m~/Desktop/project/Housing/env/lib/python3.8/site-packages/sklearn/ensemble/_forest.py\u001b[0m in \u001b[0;36mpredict\u001b[0;34m(self, X)\u001b[0m\n\u001b[1;32m    628\u001b[0m             \u001b[0mThe\u001b[0m \u001b[0mpredicted\u001b[0m \u001b[0mclasses\u001b[0m\u001b[0;34m.\u001b[0m\u001b[0;34m\u001b[0m\u001b[0;34m\u001b[0m\u001b[0m\n\u001b[1;32m    629\u001b[0m         \"\"\"\n\u001b[0;32m--> 630\u001b[0;31m         \u001b[0mproba\u001b[0m \u001b[0;34m=\u001b[0m \u001b[0mself\u001b[0m\u001b[0;34m.\u001b[0m\u001b[0mpredict_proba\u001b[0m\u001b[0;34m(\u001b[0m\u001b[0mX\u001b[0m\u001b[0;34m)\u001b[0m\u001b[0;34m\u001b[0m\u001b[0;34m\u001b[0m\u001b[0m\n\u001b[0m\u001b[1;32m    631\u001b[0m \u001b[0;34m\u001b[0m\u001b[0m\n\u001b[1;32m    632\u001b[0m         \u001b[0;32mif\u001b[0m \u001b[0mself\u001b[0m\u001b[0;34m.\u001b[0m\u001b[0mn_outputs_\u001b[0m \u001b[0;34m==\u001b[0m \u001b[0;36m1\u001b[0m\u001b[0;34m:\u001b[0m\u001b[0;34m\u001b[0m\u001b[0;34m\u001b[0m\u001b[0m\n",
      "\u001b[0;32m~/Desktop/project/Housing/env/lib/python3.8/site-packages/sklearn/ensemble/_forest.py\u001b[0m in \u001b[0;36mpredict_proba\u001b[0;34m(self, X)\u001b[0m\n\u001b[1;32m    670\u001b[0m             \u001b[0mclasses\u001b[0m \u001b[0mcorresponds\u001b[0m \u001b[0mto\u001b[0m \u001b[0mthat\u001b[0m \u001b[0;32min\u001b[0m \u001b[0mthe\u001b[0m \u001b[0mattribute\u001b[0m \u001b[0;34m:\u001b[0m\u001b[0mterm\u001b[0m\u001b[0;34m:\u001b[0m\u001b[0;31m`\u001b[0m\u001b[0mclasses_\u001b[0m\u001b[0;31m`\u001b[0m\u001b[0;34m.\u001b[0m\u001b[0;34m\u001b[0m\u001b[0;34m\u001b[0m\u001b[0m\n\u001b[1;32m    671\u001b[0m         \"\"\"\n\u001b[0;32m--> 672\u001b[0;31m         \u001b[0mcheck_is_fitted\u001b[0m\u001b[0;34m(\u001b[0m\u001b[0mself\u001b[0m\u001b[0;34m)\u001b[0m\u001b[0;34m\u001b[0m\u001b[0;34m\u001b[0m\u001b[0m\n\u001b[0m\u001b[1;32m    673\u001b[0m         \u001b[0;31m# Check data\u001b[0m\u001b[0;34m\u001b[0m\u001b[0;34m\u001b[0m\u001b[0;34m\u001b[0m\u001b[0m\n\u001b[1;32m    674\u001b[0m         \u001b[0mX\u001b[0m \u001b[0;34m=\u001b[0m \u001b[0mself\u001b[0m\u001b[0;34m.\u001b[0m\u001b[0m_validate_X_predict\u001b[0m\u001b[0;34m(\u001b[0m\u001b[0mX\u001b[0m\u001b[0;34m)\u001b[0m\u001b[0;34m\u001b[0m\u001b[0;34m\u001b[0m\u001b[0m\n",
      "\u001b[0;32m~/Desktop/project/Housing/env/lib/python3.8/site-packages/sklearn/utils/validation.py\u001b[0m in \u001b[0;36minner_f\u001b[0;34m(*args, **kwargs)\u001b[0m\n\u001b[1;32m     61\u001b[0m             \u001b[0mextra_args\u001b[0m \u001b[0;34m=\u001b[0m \u001b[0mlen\u001b[0m\u001b[0;34m(\u001b[0m\u001b[0margs\u001b[0m\u001b[0;34m)\u001b[0m \u001b[0;34m-\u001b[0m \u001b[0mlen\u001b[0m\u001b[0;34m(\u001b[0m\u001b[0mall_args\u001b[0m\u001b[0;34m)\u001b[0m\u001b[0;34m\u001b[0m\u001b[0;34m\u001b[0m\u001b[0m\n\u001b[1;32m     62\u001b[0m             \u001b[0;32mif\u001b[0m \u001b[0mextra_args\u001b[0m \u001b[0;34m<=\u001b[0m \u001b[0;36m0\u001b[0m\u001b[0;34m:\u001b[0m\u001b[0;34m\u001b[0m\u001b[0;34m\u001b[0m\u001b[0m\n\u001b[0;32m---> 63\u001b[0;31m                 \u001b[0;32mreturn\u001b[0m \u001b[0mf\u001b[0m\u001b[0;34m(\u001b[0m\u001b[0;34m*\u001b[0m\u001b[0margs\u001b[0m\u001b[0;34m,\u001b[0m \u001b[0;34m**\u001b[0m\u001b[0mkwargs\u001b[0m\u001b[0;34m)\u001b[0m\u001b[0;34m\u001b[0m\u001b[0;34m\u001b[0m\u001b[0m\n\u001b[0m\u001b[1;32m     64\u001b[0m \u001b[0;34m\u001b[0m\u001b[0m\n\u001b[1;32m     65\u001b[0m             \u001b[0;31m# extra_args > 0\u001b[0m\u001b[0;34m\u001b[0m\u001b[0;34m\u001b[0m\u001b[0;34m\u001b[0m\u001b[0m\n",
      "\u001b[0;32m~/Desktop/project/Housing/env/lib/python3.8/site-packages/sklearn/utils/validation.py\u001b[0m in \u001b[0;36mcheck_is_fitted\u001b[0;34m(estimator, attributes, msg, all_or_any)\u001b[0m\n\u001b[1;32m   1039\u001b[0m \u001b[0;34m\u001b[0m\u001b[0m\n\u001b[1;32m   1040\u001b[0m     \u001b[0;32mif\u001b[0m \u001b[0;32mnot\u001b[0m \u001b[0mattrs\u001b[0m\u001b[0;34m:\u001b[0m\u001b[0;34m\u001b[0m\u001b[0;34m\u001b[0m\u001b[0m\n\u001b[0;32m-> 1041\u001b[0;31m         \u001b[0;32mraise\u001b[0m \u001b[0mNotFittedError\u001b[0m\u001b[0;34m(\u001b[0m\u001b[0mmsg\u001b[0m \u001b[0;34m%\u001b[0m \u001b[0;34m{\u001b[0m\u001b[0;34m'name'\u001b[0m\u001b[0;34m:\u001b[0m \u001b[0mtype\u001b[0m\u001b[0;34m(\u001b[0m\u001b[0mestimator\u001b[0m\u001b[0;34m)\u001b[0m\u001b[0;34m.\u001b[0m\u001b[0m__name__\u001b[0m\u001b[0;34m}\u001b[0m\u001b[0;34m)\u001b[0m\u001b[0;34m\u001b[0m\u001b[0;34m\u001b[0m\u001b[0m\n\u001b[0m\u001b[1;32m   1042\u001b[0m \u001b[0;34m\u001b[0m\u001b[0m\n\u001b[1;32m   1043\u001b[0m \u001b[0;34m\u001b[0m\u001b[0m\n",
      "\u001b[0;31mNotFittedError\u001b[0m: This RandomForestClassifier instance is not fitted yet. Call 'fit' with appropriate arguments before using this estimator."
     ]
    }
   ],
   "source": [
    "# Evaluation:\n",
    "y_true = y_test         \n",
    "y_pred = MLPPrediction   \n",
    "#create confusion_matrix\n",
    "print(confusion_matrix(y_true, y_pred))\n",
    "\n",
    "# create classes for classification\n",
    "target_names = ['class 0','class 1','class 2','class 3','class 4','class 5']\n",
    "#report the classification parameter \n",
    "print(classification_report(y_true, y_pred, target_names=target_names))\n",
    "print(f'Train Accuracy : {ens_classifier.score(x_train,y_train):3f}')\n",
    "print(f'Test Accuracy : {ens_classifier.score(x_test,y_test):3f}')"
   ]
  },
  {
   "cell_type": "code",
   "execution_count": 35,
   "metadata": {
    "tags": []
   },
   "outputs": [
    {
     "output_type": "stream",
     "name": "stderr",
     "text": [
      "/home/parham/Desktop/project/Housing/env/lib/python3.8/site-packages/sklearn/neural_network/_multilayer_perceptron.py:614: ConvergenceWarning: Stochastic Optimizer: Maximum iterations (200) reached and the optimization hasn't converged yet.\n",
      "  warnings.warn(\n",
      "/home/parham/Desktop/project/Housing/env/lib/python3.8/site-packages/sklearn/neural_network/_multilayer_perceptron.py:614: ConvergenceWarning: Stochastic Optimizer: Maximum iterations (200) reached and the optimization hasn't converged yet.\n",
      "  warnings.warn(\n",
      "/home/parham/Desktop/project/Housing/env/lib/python3.8/site-packages/sklearn/neural_network/_multilayer_perceptron.py:614: ConvergenceWarning: Stochastic Optimizer: Maximum iterations (200) reached and the optimization hasn't converged yet.\n",
      "  warnings.warn(\n",
      "/home/parham/Desktop/project/Housing/env/lib/python3.8/site-packages/sklearn/neural_network/_multilayer_perceptron.py:614: ConvergenceWarning: Stochastic Optimizer: Maximum iterations (200) reached and the optimization hasn't converged yet.\n",
      "  warnings.warn(\n",
      "/home/parham/Desktop/project/Housing/env/lib/python3.8/site-packages/sklearn/neural_network/_multilayer_perceptron.py:614: ConvergenceWarning: Stochastic Optimizer: Maximum iterations (200) reached and the optimization hasn't converged yet.\n",
      "  warnings.warn(\n",
      "/home/parham/Desktop/project/Housing/env/lib/python3.8/site-packages/sklearn/neural_network/_multilayer_perceptron.py:614: ConvergenceWarning: Stochastic Optimizer: Maximum iterations (200) reached and the optimization hasn't converged yet.\n",
      "  warnings.warn(\n",
      "/home/parham/Desktop/project/Housing/env/lib/python3.8/site-packages/sklearn/neural_network/_multilayer_perceptron.py:614: ConvergenceWarning: Stochastic Optimizer: Maximum iterations (200) reached and the optimization hasn't converged yet.\n",
      "  warnings.warn(\n",
      "/home/parham/Desktop/project/Housing/env/lib/python3.8/site-packages/sklearn/neural_network/_multilayer_perceptron.py:614: ConvergenceWarning: Stochastic Optimizer: Maximum iterations (200) reached and the optimization hasn't converged yet.\n",
      "  warnings.warn(\n",
      "/home/parham/Desktop/project/Housing/env/lib/python3.8/site-packages/sklearn/neural_network/_multilayer_perceptron.py:614: ConvergenceWarning: Stochastic Optimizer: Maximum iterations (200) reached and the optimization hasn't converged yet.\n",
      "  warnings.warn(\n",
      "/home/parham/Desktop/project/Housing/env/lib/python3.8/site-packages/sklearn/neural_network/_multilayer_perceptron.py:614: ConvergenceWarning: Stochastic Optimizer: Maximum iterations (200) reached and the optimization hasn't converged yet.\n",
      "  warnings.warn(\n",
      "/home/parham/Desktop/project/Housing/env/lib/python3.8/site-packages/sklearn/neural_network/_multilayer_perceptron.py:614: ConvergenceWarning: Stochastic Optimizer: Maximum iterations (200) reached and the optimization hasn't converged yet.\n",
      "  warnings.warn(\n",
      "/home/parham/Desktop/project/Housing/env/lib/python3.8/site-packages/sklearn/neural_network/_multilayer_perceptron.py:614: ConvergenceWarning: Stochastic Optimizer: Maximum iterations (200) reached and the optimization hasn't converged yet.\n",
      "  warnings.warn(\n",
      "/home/parham/Desktop/project/Housing/env/lib/python3.8/site-packages/sklearn/neural_network/_multilayer_perceptron.py:614: ConvergenceWarning: Stochastic Optimizer: Maximum iterations (200) reached and the optimization hasn't converged yet.\n",
      "  warnings.warn(\n",
      "/home/parham/Desktop/project/Housing/env/lib/python3.8/site-packages/sklearn/neural_network/_multilayer_perceptron.py:614: ConvergenceWarning: Stochastic Optimizer: Maximum iterations (200) reached and the optimization hasn't converged yet.\n",
      "  warnings.warn(\n",
      "/home/parham/Desktop/project/Housing/env/lib/python3.8/site-packages/sklearn/neural_network/_multilayer_perceptron.py:614: ConvergenceWarning: Stochastic Optimizer: Maximum iterations (200) reached and the optimization hasn't converged yet.\n",
      "  warnings.warn(\n",
      "/home/parham/Desktop/project/Housing/env/lib/python3.8/site-packages/sklearn/neural_network/_multilayer_perceptron.py:614: ConvergenceWarning: Stochastic Optimizer: Maximum iterations (200) reached and the optimization hasn't converged yet.\n",
      "  warnings.warn(\n",
      "/home/parham/Desktop/project/Housing/env/lib/python3.8/site-packages/sklearn/neural_network/_multilayer_perceptron.py:614: ConvergenceWarning: Stochastic Optimizer: Maximum iterations (200) reached and the optimization hasn't converged yet.\n",
      "  warnings.warn(\n",
      "/home/parham/Desktop/project/Housing/env/lib/python3.8/site-packages/sklearn/neural_network/_multilayer_perceptron.py:614: ConvergenceWarning: Stochastic Optimizer: Maximum iterations (200) reached and the optimization hasn't converged yet.\n",
      "  warnings.warn(\n",
      "/home/parham/Desktop/project/Housing/env/lib/python3.8/site-packages/sklearn/neural_network/_multilayer_perceptron.py:614: ConvergenceWarning: Stochastic Optimizer: Maximum iterations (200) reached and the optimization hasn't converged yet.\n",
      "  warnings.warn(\n",
      "/home/parham/Desktop/project/Housing/env/lib/python3.8/site-packages/sklearn/neural_network/_multilayer_perceptron.py:614: ConvergenceWarning: Stochastic Optimizer: Maximum iterations (200) reached and the optimization hasn't converged yet.\n",
      "  warnings.warn(\n",
      "/home/parham/Desktop/project/Housing/env/lib/python3.8/site-packages/sklearn/neural_network/_multilayer_perceptron.py:614: ConvergenceWarning: Stochastic Optimizer: Maximum iterations (200) reached and the optimization hasn't converged yet.\n",
      "  warnings.warn(\n",
      "/home/parham/Desktop/project/Housing/env/lib/python3.8/site-packages/sklearn/neural_network/_multilayer_perceptron.py:614: ConvergenceWarning: Stochastic Optimizer: Maximum iterations (200) reached and the optimization hasn't converged yet.\n",
      "  warnings.warn(\n",
      "/home/parham/Desktop/project/Housing/env/lib/python3.8/site-packages/sklearn/neural_network/_multilayer_perceptron.py:614: ConvergenceWarning: Stochastic Optimizer: Maximum iterations (200) reached and the optimization hasn't converged yet.\n",
      "  warnings.warn(\n",
      "/home/parham/Desktop/project/Housing/env/lib/python3.8/site-packages/sklearn/neural_network/_multilayer_perceptron.py:614: ConvergenceWarning: Stochastic Optimizer: Maximum iterations (200) reached and the optimization hasn't converged yet.\n",
      "  warnings.warn(\n",
      "/home/parham/Desktop/project/Housing/env/lib/python3.8/site-packages/sklearn/neural_network/_multilayer_perceptron.py:614: ConvergenceWarning: Stochastic Optimizer: Maximum iterations (200) reached and the optimization hasn't converged yet.\n",
      "  warnings.warn(\n",
      "/home/parham/Desktop/project/Housing/env/lib/python3.8/site-packages/sklearn/neural_network/_multilayer_perceptron.py:614: ConvergenceWarning: Stochastic Optimizer: Maximum iterations (200) reached and the optimization hasn't converged yet.\n",
      "  warnings.warn(\n",
      "/home/parham/Desktop/project/Housing/env/lib/python3.8/site-packages/sklearn/neural_network/_multilayer_perceptron.py:614: ConvergenceWarning: Stochastic Optimizer: Maximum iterations (200) reached and the optimization hasn't converged yet.\n",
      "  warnings.warn(\n",
      "/home/parham/Desktop/project/Housing/env/lib/python3.8/site-packages/sklearn/neural_network/_multilayer_perceptron.py:614: ConvergenceWarning: Stochastic Optimizer: Maximum iterations (200) reached and the optimization hasn't converged yet.\n",
      "  warnings.warn(\n",
      "/home/parham/Desktop/project/Housing/env/lib/python3.8/site-packages/sklearn/neural_network/_multilayer_perceptron.py:614: ConvergenceWarning: Stochastic Optimizer: Maximum iterations (200) reached and the optimization hasn't converged yet.\n",
      "  warnings.warn(\n",
      "/home/parham/Desktop/project/Housing/env/lib/python3.8/site-packages/sklearn/neural_network/_multilayer_perceptron.py:614: ConvergenceWarning: Stochastic Optimizer: Maximum iterations (200) reached and the optimization hasn't converged yet.\n",
      "  warnings.warn(\n",
      "/home/parham/Desktop/project/Housing/env/lib/python3.8/site-packages/sklearn/neural_network/_multilayer_perceptron.py:614: ConvergenceWarning: Stochastic Optimizer: Maximum iterations (200) reached and the optimization hasn't converged yet.\n",
      "  warnings.warn(\n",
      "/home/parham/Desktop/project/Housing/env/lib/python3.8/site-packages/sklearn/neural_network/_multilayer_perceptron.py:614: ConvergenceWarning: Stochastic Optimizer: Maximum iterations (200) reached and the optimization hasn't converged yet.\n",
      "  warnings.warn(\n",
      "/home/parham/Desktop/project/Housing/env/lib/python3.8/site-packages/sklearn/neural_network/_multilayer_perceptron.py:614: ConvergenceWarning: Stochastic Optimizer: Maximum iterations (200) reached and the optimization hasn't converged yet.\n",
      "  warnings.warn(\n",
      "/home/parham/Desktop/project/Housing/env/lib/python3.8/site-packages/sklearn/neural_network/_multilayer_perceptron.py:614: ConvergenceWarning: Stochastic Optimizer: Maximum iterations (200) reached and the optimization hasn't converged yet.\n",
      "  warnings.warn(\n",
      "/home/parham/Desktop/project/Housing/env/lib/python3.8/site-packages/sklearn/neural_network/_multilayer_perceptron.py:614: ConvergenceWarning: Stochastic Optimizer: Maximum iterations (200) reached and the optimization hasn't converged yet.\n",
      "  warnings.warn(\n",
      "/home/parham/Desktop/project/Housing/env/lib/python3.8/site-packages/sklearn/neural_network/_multilayer_perceptron.py:614: ConvergenceWarning: Stochastic Optimizer: Maximum iterations (200) reached and the optimization hasn't converged yet.\n",
      "  warnings.warn(\n",
      "/home/parham/Desktop/project/Housing/env/lib/python3.8/site-packages/sklearn/neural_network/_multilayer_perceptron.py:614: ConvergenceWarning: Stochastic Optimizer: Maximum iterations (200) reached and the optimization hasn't converged yet.\n",
      "  warnings.warn(\n",
      "/home/parham/Desktop/project/Housing/env/lib/python3.8/site-packages/sklearn/neural_network/_multilayer_perceptron.py:614: ConvergenceWarning: Stochastic Optimizer: Maximum iterations (200) reached and the optimization hasn't converged yet.\n",
      "  warnings.warn(\n",
      "/home/parham/Desktop/project/Housing/env/lib/python3.8/site-packages/sklearn/neural_network/_multilayer_perceptron.py:614: ConvergenceWarning: Stochastic Optimizer: Maximum iterations (200) reached and the optimization hasn't converged yet.\n",
      "  warnings.warn(\n",
      "/home/parham/Desktop/project/Housing/env/lib/python3.8/site-packages/sklearn/neural_network/_multilayer_perceptron.py:614: ConvergenceWarning: Stochastic Optimizer: Maximum iterations (200) reached and the optimization hasn't converged yet.\n",
      "  warnings.warn(\n",
      "/home/parham/Desktop/project/Housing/env/lib/python3.8/site-packages/sklearn/neural_network/_multilayer_perceptron.py:614: ConvergenceWarning: Stochastic Optimizer: Maximum iterations (200) reached and the optimization hasn't converged yet.\n",
      "  warnings.warn(\n",
      "/home/parham/Desktop/project/Housing/env/lib/python3.8/site-packages/sklearn/neural_network/_multilayer_perceptron.py:614: ConvergenceWarning: Stochastic Optimizer: Maximum iterations (200) reached and the optimization hasn't converged yet.\n",
      "  warnings.warn(\n",
      "/home/parham/Desktop/project/Housing/env/lib/python3.8/site-packages/sklearn/neural_network/_multilayer_perceptron.py:614: ConvergenceWarning: Stochastic Optimizer: Maximum iterations (200) reached and the optimization hasn't converged yet.\n",
      "  warnings.warn(\n",
      "/home/parham/Desktop/project/Housing/env/lib/python3.8/site-packages/sklearn/neural_network/_multilayer_perceptron.py:614: ConvergenceWarning: Stochastic Optimizer: Maximum iterations (200) reached and the optimization hasn't converged yet.\n",
      "  warnings.warn(\n",
      "/home/parham/Desktop/project/Housing/env/lib/python3.8/site-packages/sklearn/neural_network/_multilayer_perceptron.py:614: ConvergenceWarning: Stochastic Optimizer: Maximum iterations (200) reached and the optimization hasn't converged yet.\n",
      "  warnings.warn(\n",
      "/home/parham/Desktop/project/Housing/env/lib/python3.8/site-packages/sklearn/neural_network/_multilayer_perceptron.py:614: ConvergenceWarning: Stochastic Optimizer: Maximum iterations (200) reached and the optimization hasn't converged yet.\n",
      "  warnings.warn(\n",
      "/home/parham/Desktop/project/Housing/env/lib/python3.8/site-packages/sklearn/neural_network/_multilayer_perceptron.py:614: ConvergenceWarning: Stochastic Optimizer: Maximum iterations (200) reached and the optimization hasn't converged yet.\n",
      "  warnings.warn(\n",
      "/home/parham/Desktop/project/Housing/env/lib/python3.8/site-packages/sklearn/neural_network/_multilayer_perceptron.py:614: ConvergenceWarning: Stochastic Optimizer: Maximum iterations (200) reached and the optimization hasn't converged yet.\n",
      "  warnings.warn(\n",
      "/home/parham/Desktop/project/Housing/env/lib/python3.8/site-packages/sklearn/neural_network/_multilayer_perceptron.py:614: ConvergenceWarning: Stochastic Optimizer: Maximum iterations (200) reached and the optimization hasn't converged yet.\n",
      "  warnings.warn(\n",
      "/home/parham/Desktop/project/Housing/env/lib/python3.8/site-packages/sklearn/neural_network/_multilayer_perceptron.py:614: ConvergenceWarning: Stochastic Optimizer: Maximum iterations (200) reached and the optimization hasn't converged yet.\n",
      "  warnings.warn(\n",
      "/home/parham/Desktop/project/Housing/env/lib/python3.8/site-packages/sklearn/neural_network/_multilayer_perceptron.py:614: ConvergenceWarning: Stochastic Optimizer: Maximum iterations (200) reached and the optimization hasn't converged yet.\n",
      "  warnings.warn(\n",
      "/home/parham/Desktop/project/Housing/env/lib/python3.8/site-packages/sklearn/neural_network/_multilayer_perceptron.py:614: ConvergenceWarning: Stochastic Optimizer: Maximum iterations (200) reached and the optimization hasn't converged yet.\n",
      "  warnings.warn(\n",
      "/home/parham/Desktop/project/Housing/env/lib/python3.8/site-packages/sklearn/neural_network/_multilayer_perceptron.py:614: ConvergenceWarning: Stochastic Optimizer: Maximum iterations (200) reached and the optimization hasn't converged yet.\n",
      "  warnings.warn(\n",
      "/home/parham/Desktop/project/Housing/env/lib/python3.8/site-packages/sklearn/neural_network/_multilayer_perceptron.py:614: ConvergenceWarning: Stochastic Optimizer: Maximum iterations (200) reached and the optimization hasn't converged yet.\n",
      "  warnings.warn(\n",
      "/home/parham/Desktop/project/Housing/env/lib/python3.8/site-packages/sklearn/neural_network/_multilayer_perceptron.py:614: ConvergenceWarning: Stochastic Optimizer: Maximum iterations (200) reached and the optimization hasn't converged yet.\n",
      "  warnings.warn(\n",
      "/home/parham/Desktop/project/Housing/env/lib/python3.8/site-packages/sklearn/neural_network/_multilayer_perceptron.py:614: ConvergenceWarning: Stochastic Optimizer: Maximum iterations (200) reached and the optimization hasn't converged yet.\n",
      "  warnings.warn(\n",
      "/home/parham/Desktop/project/Housing/env/lib/python3.8/site-packages/sklearn/neural_network/_multilayer_perceptron.py:614: ConvergenceWarning: Stochastic Optimizer: Maximum iterations (200) reached and the optimization hasn't converged yet.\n",
      "  warnings.warn(\n",
      "/home/parham/Desktop/project/Housing/env/lib/python3.8/site-packages/sklearn/neural_network/_multilayer_perceptron.py:614: ConvergenceWarning: Stochastic Optimizer: Maximum iterations (200) reached and the optimization hasn't converged yet.\n",
      "  warnings.warn(\n",
      "/home/parham/Desktop/project/Housing/env/lib/python3.8/site-packages/sklearn/neural_network/_multilayer_perceptron.py:614: ConvergenceWarning: Stochastic Optimizer: Maximum iterations (200) reached and the optimization hasn't converged yet.\n",
      "  warnings.warn(\n",
      "/home/parham/Desktop/project/Housing/env/lib/python3.8/site-packages/sklearn/neural_network/_multilayer_perceptron.py:614: ConvergenceWarning: Stochastic Optimizer: Maximum iterations (200) reached and the optimization hasn't converged yet.\n",
      "  warnings.warn(\n",
      "/home/parham/Desktop/project/Housing/env/lib/python3.8/site-packages/sklearn/neural_network/_multilayer_perceptron.py:614: ConvergenceWarning: Stochastic Optimizer: Maximum iterations (200) reached and the optimization hasn't converged yet.\n",
      "  warnings.warn(\n",
      "/home/parham/Desktop/project/Housing/env/lib/python3.8/site-packages/sklearn/neural_network/_multilayer_perceptron.py:614: ConvergenceWarning: Stochastic Optimizer: Maximum iterations (200) reached and the optimization hasn't converged yet.\n",
      "  warnings.warn(\n"
     ]
    },
    {
     "output_type": "execute_result",
     "data": {
      "text/plain": [
       "MLPClassifier(activation='tanh', hidden_layer_sizes=(10, 30, 10),\n",
       "              learning_rate='adaptive')"
      ]
     },
     "metadata": {},
     "execution_count": 35
    }
   ],
   "source": [
    "# Tuning Hyper-parameter (Greedy search):\n",
    "from sklearn.model_selection import GridSearchCV\n",
    "tuned_parameters = {\n",
    "    'hidden_layer_sizes': [(10,30,10),(20,)],\n",
    "    'activation': ['tanh', 'relu'],\n",
    "    'solver': ['sgd', 'adam'],\n",
    "    'alpha': [0.0001, 0.05],\n",
    "    'learning_rate': ['constant','adaptive'],\n",
    "    \n",
    "}\n",
    "\n",
    "MLP_classifier=MLPClassifier() # create classifier\n",
    "# estimate the best set of hyper-parameter\n",
    "MLP_cv= GridSearchCV(MLP_classifier,tuned_parameters, cv=3) \n",
    "\n",
    "MLP_cv.fit(x_train, y_train)\n",
    "MLP_cv.best_estimator_"
   ]
  },
  {
   "cell_type": "code",
   "execution_count": 36,
   "metadata": {},
   "outputs": [],
   "source": [
    "# calcuating Accuracy with best hyper-parameter:\n",
    "MLP_clf = MLPClassifier(activation='tanh', alpha=0.05, hidden_layer_sizes=(10, 30, 10))\n",
    "MLP_clf.fit(x_train, y_train)\n",
    "MLPPrediction=MLP_clf.predict(x_test)"
   ]
  },
  {
   "cell_type": "code",
   "execution_count": 37,
   "metadata": {},
   "outputs": [
    {
     "output_type": "stream",
     "name": "stdout",
     "text": [
      "[[ 88  35   8   5   8  12]\n [ 17 112  32   2   1   0]\n [  1  20 100  35   1   0]\n [  0   2  21 100  22   1]\n [  1   0   4  30 106   6]\n [  0   1   2   1  28 138]]\n              precision    recall  f1-score   support\n\n     class 0       0.82      0.56      0.67       156\n     class 1       0.66      0.68      0.67       164\n     class 2       0.60      0.64      0.62       157\n     class 3       0.58      0.68      0.63       146\n     class 4       0.64      0.72      0.68       147\n     class 5       0.88      0.81      0.84       170\n\n    accuracy                           0.69       940\n   macro avg       0.70      0.68      0.68       940\nweighted avg       0.70      0.69      0.69       940\n\nTrain Accuracy : 0.721789\nTest Accuracy : 0.685106\n"
     ]
    }
   ],
   "source": [
    "y_true = y_test         \n",
    "y_pred = MLPPrediction   \n",
    "#create confusion_matrix\n",
    "print(confusion_matrix(y_true, y_pred))\n",
    "# create classes for classification\n",
    "target_names = ['class 0','class 1','class 2','class 3','class 4','class 5']\n",
    "#report the classification parameter \n",
    "print(classification_report(y_true, y_pred, target_names=target_names))\n",
    "# computing Train Accuracy and Test Accuracy \n",
    "print(f'Train Accuracy : {MLP_clf.score(x_train,y_train):3f}')\n",
    "print(f'Test Accuracy : {MLP_clf.score(x_test,y_test):3f}')"
   ]
  },
  {
   "cell_type": "code",
   "execution_count": 35,
   "metadata": {},
   "outputs": [
    {
     "output_type": "stream",
     "name": "stderr",
     "text": [
      "/home/parham/Desktop/project/Housing/env/lib/python3.8/site-packages/sklearn/neural_network/_multilayer_perceptron.py:614: ConvergenceWarning: Stochastic Optimizer: Maximum iterations (200) reached and the optimization hasn't converged yet.\n",
      "  warnings.warn(\n",
      "Accuracy: 0.69 (+/- 0.02)\n",
      "/home/parham/Desktop/project/Housing/env/lib/python3.8/site-packages/sklearn/neural_network/_multilayer_perceptron.py:614: ConvergenceWarning: Stochastic Optimizer: Maximum iterations (200) reached and the optimization hasn't converged yet.\n",
      "  warnings.warn(\n"
     ]
    }
   ],
   "source": [
    "from sklearn.model_selection import cross_val_score \n",
    "MLP_clf = MLPClassifier(activation='tanh', alpha=0.05, hidden_layer_sizes=(10, 30, 10))\n",
    "scores = cross_val_score(MLP_clf, x_train, y_train, cv=3)\n",
    "\n",
    "print(\"Accuracy: %0.2f (+/- %0.2f)\" % (scores.mean(), scores.std() * 2))"
   ]
  },
  {
   "cell_type": "code",
   "execution_count": 38,
   "metadata": {},
   "outputs": [
    {
     "output_type": "execute_result",
     "data": {
      "text/plain": [
       "940"
      ]
     },
     "metadata": {},
     "execution_count": 38
    }
   ],
   "source": [
    "\n",
    "from sklearn.tree import DecisionTreeClassifier\n",
    "dt_clf= DecisionTreeClassifier(max_depth=2)\n",
    "dt_clf.fit(x_train, y_train)\n",
    "DTPrediction=dt_clf.predict(x_test)\n"
   ]
  },
  {
   "cell_type": "code",
   "execution_count": 39,
   "metadata": {},
   "outputs": [
    {
     "output_type": "stream",
     "name": "stdout",
     "text": [
      "[[114   0   0  30   1  11]\n",
      " [123   0   0  41   0   0]\n",
      " [ 52   0   0 105   0   0]\n",
      " [  7   0   0 118  14   7]\n",
      " [  0   0   0  95  26  26]\n",
      " [  2   0   0  10  11 147]]\n",
      "              precision    recall  f1-score   support\n",
      "\n",
      "     class 0       0.38      0.73      0.50       156\n",
      "     class 1       0.00      0.00      0.00       164\n",
      "     class 2       0.00      0.00      0.00       157\n",
      "     class 3       0.30      0.81      0.43       146\n",
      "     class 4       0.50      0.18      0.26       147\n",
      "     class 5       0.77      0.86      0.81       170\n",
      "\n",
      "    accuracy                           0.43       940\n",
      "   macro avg       0.32      0.43      0.34       940\n",
      "weighted avg       0.33      0.43      0.34       940\n",
      "\n",
      "Train Accuracy : 0.454223\n",
      "Test Accuracy : 0.430851\n",
      "/home/parham/Desktop/project/Housing/env/lib/python3.8/site-packages/sklearn/metrics/_classification.py:1245: UndefinedMetricWarning: Precision and F-score are ill-defined and being set to 0.0 in labels with no predicted samples. Use `zero_division` parameter to control this behavior.\n",
      "  _warn_prf(average, modifier, msg_start, len(result))\n",
      "/home/parham/Desktop/project/Housing/env/lib/python3.8/site-packages/sklearn/metrics/_classification.py:1245: UndefinedMetricWarning: Precision and F-score are ill-defined and being set to 0.0 in labels with no predicted samples. Use `zero_division` parameter to control this behavior.\n",
      "  _warn_prf(average, modifier, msg_start, len(result))\n",
      "/home/parham/Desktop/project/Housing/env/lib/python3.8/site-packages/sklearn/metrics/_classification.py:1245: UndefinedMetricWarning: Precision and F-score are ill-defined and being set to 0.0 in labels with no predicted samples. Use `zero_division` parameter to control this behavior.\n",
      "  _warn_prf(average, modifier, msg_start, len(result))\n"
     ]
    }
   ],
   "source": [
    "y_true = y_test         \n",
    "y_pred = DTPrediction   \n",
    "#create confusion_matrix\n",
    "print(confusion_matrix(y_true, y_pred))\n",
    "\n",
    "# create classes for classification\n",
    "target_names = ['class 0','class 1','class 2','class 3','class 4','class 5']\n",
    "#report the classification parameter \n",
    "print(classification_report(y_true, y_pred, target_names=target_names))\n",
    "# computing Train Accuracy and Test Accuracy \n",
    "print(f'Train Accuracy : {regr_clf.score(x_train,y_train):3f}')\n",
    "print(f'Test Accuracy : {regr_clf.score(x_test,y_test):3f}')"
   ]
  },
  {
   "cell_type": "code",
   "execution_count": 41,
   "metadata": {},
   "outputs": [],
   "source": [
    "tuned_parameters = {\n",
    "    'splitter': [\"best\", \"random\"],\n",
    "    'criterion': [\"gini\", \"entropy\"],\n",
    "    'max_depth': [0,None],\n",
    "    \n",
    "}"
   ]
  },
  {
   "cell_type": "code",
   "execution_count": 42,
   "metadata": {},
   "outputs": [
    {
     "output_type": "stream",
     "name": "stderr",
     "text": [
      "/home/parham/Desktop/project/Housing/env/lib/python3.8/site-packages/sklearn/model_selection/_validation.py:610: FitFailedWarning: Estimator fit failed. The score on this train-test partition for these parameters will be set to nan. Details: \n",
      "Traceback (most recent call last):\n",
      "  File \"/home/parham/Desktop/project/Housing/env/lib/python3.8/site-packages/sklearn/model_selection/_validation.py\", line 593, in _fit_and_score\n",
      "    estimator.fit(X_train, y_train, **fit_params)\n",
      "  File \"/home/parham/Desktop/project/Housing/env/lib/python3.8/site-packages/sklearn/tree/_classes.py\", line 898, in fit\n",
      "    super().fit(\n",
      "  File \"/home/parham/Desktop/project/Housing/env/lib/python3.8/site-packages/sklearn/tree/_classes.py\", line 286, in fit\n",
      "    raise ValueError(\"max_depth must be greater than zero. \")\n",
      "ValueError: max_depth must be greater than zero. \n",
      "\n",
      "  warnings.warn(\"Estimator fit failed. The score on this train-test\"\n",
      "/home/parham/Desktop/project/Housing/env/lib/python3.8/site-packages/sklearn/model_selection/_validation.py:610: FitFailedWarning: Estimator fit failed. The score on this train-test partition for these parameters will be set to nan. Details: \n",
      "Traceback (most recent call last):\n",
      "  File \"/home/parham/Desktop/project/Housing/env/lib/python3.8/site-packages/sklearn/model_selection/_validation.py\", line 593, in _fit_and_score\n",
      "    estimator.fit(X_train, y_train, **fit_params)\n",
      "  File \"/home/parham/Desktop/project/Housing/env/lib/python3.8/site-packages/sklearn/tree/_classes.py\", line 898, in fit\n",
      "    super().fit(\n",
      "  File \"/home/parham/Desktop/project/Housing/env/lib/python3.8/site-packages/sklearn/tree/_classes.py\", line 286, in fit\n",
      "    raise ValueError(\"max_depth must be greater than zero. \")\n",
      "ValueError: max_depth must be greater than zero. \n",
      "\n",
      "  warnings.warn(\"Estimator fit failed. The score on this train-test\"\n",
      "/home/parham/Desktop/project/Housing/env/lib/python3.8/site-packages/sklearn/model_selection/_validation.py:610: FitFailedWarning: Estimator fit failed. The score on this train-test partition for these parameters will be set to nan. Details: \n",
      "Traceback (most recent call last):\n",
      "  File \"/home/parham/Desktop/project/Housing/env/lib/python3.8/site-packages/sklearn/model_selection/_validation.py\", line 593, in _fit_and_score\n",
      "    estimator.fit(X_train, y_train, **fit_params)\n",
      "  File \"/home/parham/Desktop/project/Housing/env/lib/python3.8/site-packages/sklearn/tree/_classes.py\", line 898, in fit\n",
      "    super().fit(\n",
      "  File \"/home/parham/Desktop/project/Housing/env/lib/python3.8/site-packages/sklearn/tree/_classes.py\", line 286, in fit\n",
      "    raise ValueError(\"max_depth must be greater than zero. \")\n",
      "ValueError: max_depth must be greater than zero. \n",
      "\n",
      "  warnings.warn(\"Estimator fit failed. The score on this train-test\"\n",
      "/home/parham/Desktop/project/Housing/env/lib/python3.8/site-packages/sklearn/model_selection/_validation.py:610: FitFailedWarning: Estimator fit failed. The score on this train-test partition for these parameters will be set to nan. Details: \n",
      "Traceback (most recent call last):\n",
      "  File \"/home/parham/Desktop/project/Housing/env/lib/python3.8/site-packages/sklearn/model_selection/_validation.py\", line 593, in _fit_and_score\n",
      "    estimator.fit(X_train, y_train, **fit_params)\n",
      "  File \"/home/parham/Desktop/project/Housing/env/lib/python3.8/site-packages/sklearn/tree/_classes.py\", line 898, in fit\n",
      "    super().fit(\n",
      "  File \"/home/parham/Desktop/project/Housing/env/lib/python3.8/site-packages/sklearn/tree/_classes.py\", line 286, in fit\n",
      "    raise ValueError(\"max_depth must be greater than zero. \")\n",
      "ValueError: max_depth must be greater than zero. \n",
      "\n",
      "  warnings.warn(\"Estimator fit failed. The score on this train-test\"\n",
      "/home/parham/Desktop/project/Housing/env/lib/python3.8/site-packages/sklearn/model_selection/_validation.py:610: FitFailedWarning: Estimator fit failed. The score on this train-test partition for these parameters will be set to nan. Details: \n",
      "Traceback (most recent call last):\n",
      "  File \"/home/parham/Desktop/project/Housing/env/lib/python3.8/site-packages/sklearn/model_selection/_validation.py\", line 593, in _fit_and_score\n",
      "    estimator.fit(X_train, y_train, **fit_params)\n",
      "  File \"/home/parham/Desktop/project/Housing/env/lib/python3.8/site-packages/sklearn/tree/_classes.py\", line 898, in fit\n",
      "    super().fit(\n",
      "  File \"/home/parham/Desktop/project/Housing/env/lib/python3.8/site-packages/sklearn/tree/_classes.py\", line 286, in fit\n",
      "    raise ValueError(\"max_depth must be greater than zero. \")\n",
      "ValueError: max_depth must be greater than zero. \n",
      "\n",
      "  warnings.warn(\"Estimator fit failed. The score on this train-test\"\n",
      "/home/parham/Desktop/project/Housing/env/lib/python3.8/site-packages/sklearn/model_selection/_validation.py:610: FitFailedWarning: Estimator fit failed. The score on this train-test partition for these parameters will be set to nan. Details: \n",
      "Traceback (most recent call last):\n",
      "  File \"/home/parham/Desktop/project/Housing/env/lib/python3.8/site-packages/sklearn/model_selection/_validation.py\", line 593, in _fit_and_score\n",
      "    estimator.fit(X_train, y_train, **fit_params)\n",
      "  File \"/home/parham/Desktop/project/Housing/env/lib/python3.8/site-packages/sklearn/tree/_classes.py\", line 898, in fit\n",
      "    super().fit(\n",
      "  File \"/home/parham/Desktop/project/Housing/env/lib/python3.8/site-packages/sklearn/tree/_classes.py\", line 286, in fit\n",
      "    raise ValueError(\"max_depth must be greater than zero. \")\n",
      "ValueError: max_depth must be greater than zero. \n",
      "\n",
      "  warnings.warn(\"Estimator fit failed. The score on this train-test\"\n",
      "/home/parham/Desktop/project/Housing/env/lib/python3.8/site-packages/sklearn/model_selection/_validation.py:610: FitFailedWarning: Estimator fit failed. The score on this train-test partition for these parameters will be set to nan. Details: \n",
      "Traceback (most recent call last):\n",
      "  File \"/home/parham/Desktop/project/Housing/env/lib/python3.8/site-packages/sklearn/model_selection/_validation.py\", line 593, in _fit_and_score\n",
      "    estimator.fit(X_train, y_train, **fit_params)\n",
      "  File \"/home/parham/Desktop/project/Housing/env/lib/python3.8/site-packages/sklearn/tree/_classes.py\", line 898, in fit\n",
      "    super().fit(\n",
      "  File \"/home/parham/Desktop/project/Housing/env/lib/python3.8/site-packages/sklearn/tree/_classes.py\", line 286, in fit\n",
      "    raise ValueError(\"max_depth must be greater than zero. \")\n",
      "ValueError: max_depth must be greater than zero. \n",
      "\n",
      "  warnings.warn(\"Estimator fit failed. The score on this train-test\"\n",
      "/home/parham/Desktop/project/Housing/env/lib/python3.8/site-packages/sklearn/model_selection/_validation.py:610: FitFailedWarning: Estimator fit failed. The score on this train-test partition for these parameters will be set to nan. Details: \n",
      "Traceback (most recent call last):\n",
      "  File \"/home/parham/Desktop/project/Housing/env/lib/python3.8/site-packages/sklearn/model_selection/_validation.py\", line 593, in _fit_and_score\n",
      "    estimator.fit(X_train, y_train, **fit_params)\n",
      "  File \"/home/parham/Desktop/project/Housing/env/lib/python3.8/site-packages/sklearn/tree/_classes.py\", line 898, in fit\n",
      "    super().fit(\n",
      "  File \"/home/parham/Desktop/project/Housing/env/lib/python3.8/site-packages/sklearn/tree/_classes.py\", line 286, in fit\n",
      "    raise ValueError(\"max_depth must be greater than zero. \")\n",
      "ValueError: max_depth must be greater than zero. \n",
      "\n",
      "  warnings.warn(\"Estimator fit failed. The score on this train-test\"\n",
      "/home/parham/Desktop/project/Housing/env/lib/python3.8/site-packages/sklearn/model_selection/_validation.py:610: FitFailedWarning: Estimator fit failed. The score on this train-test partition for these parameters will be set to nan. Details: \n",
      "Traceback (most recent call last):\n",
      "  File \"/home/parham/Desktop/project/Housing/env/lib/python3.8/site-packages/sklearn/model_selection/_validation.py\", line 593, in _fit_and_score\n",
      "    estimator.fit(X_train, y_train, **fit_params)\n",
      "  File \"/home/parham/Desktop/project/Housing/env/lib/python3.8/site-packages/sklearn/tree/_classes.py\", line 898, in fit\n",
      "    super().fit(\n",
      "  File \"/home/parham/Desktop/project/Housing/env/lib/python3.8/site-packages/sklearn/tree/_classes.py\", line 286, in fit\n",
      "    raise ValueError(\"max_depth must be greater than zero. \")\n",
      "ValueError: max_depth must be greater than zero. \n",
      "\n",
      "  warnings.warn(\"Estimator fit failed. The score on this train-test\"\n",
      "/home/parham/Desktop/project/Housing/env/lib/python3.8/site-packages/sklearn/model_selection/_validation.py:610: FitFailedWarning: Estimator fit failed. The score on this train-test partition for these parameters will be set to nan. Details: \n",
      "Traceback (most recent call last):\n",
      "  File \"/home/parham/Desktop/project/Housing/env/lib/python3.8/site-packages/sklearn/model_selection/_validation.py\", line 593, in _fit_and_score\n",
      "    estimator.fit(X_train, y_train, **fit_params)\n",
      "  File \"/home/parham/Desktop/project/Housing/env/lib/python3.8/site-packages/sklearn/tree/_classes.py\", line 898, in fit\n",
      "    super().fit(\n",
      "  File \"/home/parham/Desktop/project/Housing/env/lib/python3.8/site-packages/sklearn/tree/_classes.py\", line 286, in fit\n",
      "    raise ValueError(\"max_depth must be greater than zero. \")\n",
      "ValueError: max_depth must be greater than zero. \n",
      "\n",
      "  warnings.warn(\"Estimator fit failed. The score on this train-test\"\n",
      "/home/parham/Desktop/project/Housing/env/lib/python3.8/site-packages/sklearn/model_selection/_validation.py:610: FitFailedWarning: Estimator fit failed. The score on this train-test partition for these parameters will be set to nan. Details: \n",
      "Traceback (most recent call last):\n",
      "  File \"/home/parham/Desktop/project/Housing/env/lib/python3.8/site-packages/sklearn/model_selection/_validation.py\", line 593, in _fit_and_score\n",
      "    estimator.fit(X_train, y_train, **fit_params)\n",
      "  File \"/home/parham/Desktop/project/Housing/env/lib/python3.8/site-packages/sklearn/tree/_classes.py\", line 898, in fit\n",
      "    super().fit(\n",
      "  File \"/home/parham/Desktop/project/Housing/env/lib/python3.8/site-packages/sklearn/tree/_classes.py\", line 286, in fit\n",
      "    raise ValueError(\"max_depth must be greater than zero. \")\n",
      "ValueError: max_depth must be greater than zero. \n",
      "\n",
      "  warnings.warn(\"Estimator fit failed. The score on this train-test\"\n",
      "/home/parham/Desktop/project/Housing/env/lib/python3.8/site-packages/sklearn/model_selection/_validation.py:610: FitFailedWarning: Estimator fit failed. The score on this train-test partition for these parameters will be set to nan. Details: \n",
      "Traceback (most recent call last):\n",
      "  File \"/home/parham/Desktop/project/Housing/env/lib/python3.8/site-packages/sklearn/model_selection/_validation.py\", line 593, in _fit_and_score\n",
      "    estimator.fit(X_train, y_train, **fit_params)\n",
      "  File \"/home/parham/Desktop/project/Housing/env/lib/python3.8/site-packages/sklearn/tree/_classes.py\", line 898, in fit\n",
      "    super().fit(\n",
      "  File \"/home/parham/Desktop/project/Housing/env/lib/python3.8/site-packages/sklearn/tree/_classes.py\", line 286, in fit\n",
      "    raise ValueError(\"max_depth must be greater than zero. \")\n",
      "ValueError: max_depth must be greater than zero. \n",
      "\n",
      "  warnings.warn(\"Estimator fit failed. The score on this train-test\"\n",
      "/home/parham/Desktop/project/Housing/env/lib/python3.8/site-packages/sklearn/model_selection/_search.py:918: UserWarning: One or more of the test scores are non-finite: [       nan        nan 0.68168453 0.67956065        nan        nan\n",
      " 0.69800829 0.6735285 ]\n",
      "  warnings.warn(\n"
     ]
    },
    {
     "output_type": "execute_result",
     "data": {
      "text/plain": [
       "DecisionTreeClassifier(criterion='entropy')"
      ]
     },
     "metadata": {},
     "execution_count": 42
    }
   ],
   "source": [
    "dt_clf=DecisionTreeClassifier() # create classifier\n",
    "# estimate the best set of hyper-parameter\n",
    "dt_cv= GridSearchCV(regr_clf,tuned_parameters, cv=3) \n",
    "\n",
    "dt_cv.fit(x_train, y_train)\n",
    "dt_cv.best_estimator_"
   ]
  },
  {
   "cell_type": "code",
   "execution_count": 43,
   "metadata": {},
   "outputs": [],
   "source": [
    "dt_clf= DecisionTreeClassifier(criterion='entropy')\n",
    "dt_clf.fit(x_train, y_train)\n",
    "DTPrediction=regr_clf.predict(x_test)\n"
   ]
  },
  {
   "cell_type": "code",
   "execution_count": 44,
   "metadata": {},
   "outputs": [
    {
     "output_type": "stream",
     "name": "stdout",
     "text": [
      "[[101  21   8   7   5  14]\n [ 32 102  24   5   1   0]\n [  6  19 106  22   4   0]\n [  3   4  20 101  17   1]\n [  2   0   6  14 115  10]\n [  4   0   1   0  22 143]]\n              precision    recall  f1-score   support\n\n     class 0       0.68      0.65      0.66       156\n     class 1       0.70      0.62      0.66       164\n     class 2       0.64      0.68      0.66       157\n     class 3       0.68      0.69      0.68       146\n     class 4       0.70      0.78      0.74       147\n     class 5       0.85      0.84      0.85       170\n\n    accuracy                           0.71       940\n   macro avg       0.71      0.71      0.71       940\nweighted avg       0.71      0.71      0.71       940\n\nTrain Accuracy : 0.969127\nTest Accuracy : 0.710638\n"
     ]
    }
   ],
   "source": [
    "y_true = y_test         \n",
    "y_pred = DTPrediction   \n",
    "#create confusion_matrix\n",
    "print(confusion_matrix(y_true, y_pred))\n",
    "\n",
    "# create classes for classification\n",
    "target_names = ['class 0','class 1','class 2','class 3','class 4','class 5']\n",
    "#report the classification parameter \n",
    "print(classification_report(y_true, y_pred, target_names=target_names))\n",
    "# computing Train Accuracy and Test Accuracy \n",
    "print(f'Train Accuracy : {dt_clf.score(x_train,y_train):3f}')\n",
    "print(f'Test Accuracy : {dt_clf.score(x_test,y_test):3f}')"
   ]
  },
  {
   "cell_type": "code",
   "execution_count": 38,
   "metadata": {},
   "outputs": [
    {
     "output_type": "stream",
     "name": "stdout",
     "text": [
      "Accuracy: 0.69 (+/- 0.01)\n"
     ]
    }
   ],
   "source": [
    "from sklearn.tree import DecisionTreeClassifier\n",
    "from sklearn.model_selection import cross_val_score \n",
    "dt_clf= DecisionTreeClassifier(criterion='entropy')\n",
    "scores = cross_val_score(dt_clf, x_train, y_train, cv=3)\n",
    "\n",
    "print(\"Accuracy: %0.2f (+/- %0.2f)\" % (scores.mean(), scores.std() * 2))"
   ]
  }
 ]
}